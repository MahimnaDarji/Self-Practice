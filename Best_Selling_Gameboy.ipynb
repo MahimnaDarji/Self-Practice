{
  "nbformat": 4,
  "nbformat_minor": 0,
  "metadata": {
    "colab": {
      "provenance": [],
      "mount_file_id": "1YrTc2v8DcSaWchIR7RdKaOY3mn9bIveU",
      "authorship_tag": "ABX9TyMoDUjCH64opG6nJcQjK+1T",
      "include_colab_link": true
    },
    "kernelspec": {
      "name": "python3",
      "display_name": "Python 3"
    },
    "language_info": {
      "name": "python"
    }
  },
  "cells": [
    {
      "cell_type": "markdown",
      "metadata": {
        "id": "view-in-github",
        "colab_type": "text"
      },
      "source": [
        "<a href=\"https://colab.research.google.com/github/MahimnaDarji/Self-Practice/blob/main/Best_Selling_Gameboy.ipynb\" target=\"_parent\"><img src=\"https://colab.research.google.com/assets/colab-badge.svg\" alt=\"Open In Colab\"/></a>"
      ]
    },
    {
      "cell_type": "code",
      "source": [
        "from google.colab import drive\n",
        "drive.mount('/content/drive')"
      ],
      "metadata": {
        "colab": {
          "base_uri": "https://localhost:8080/"
        },
        "id": "nRwbc5VPBlX5",
        "outputId": "ba89e31c-a0f2-48a4-ae72-91dd32df68af"
      },
      "execution_count": null,
      "outputs": [
        {
          "output_type": "stream",
          "name": "stdout",
          "text": [
            "Drive already mounted at /content/drive; to attempt to forcibly remount, call drive.mount(\"/content/drive\", force_remount=True).\n"
          ]
        }
      ]
    },
    {
      "cell_type": "code",
      "execution_count": null,
      "metadata": {
        "id": "W8SPQc7GBMV1"
      },
      "outputs": [],
      "source": [
        "import numpy as np\n",
        "import pandas as pd\n",
        "import matplotlib.pyplot as plt\n",
        "from sklearn.metrics import classification_report,confusion_matrix,ConfusionMatrixDisplay"
      ]
    },
    {
      "cell_type": "code",
      "source": [
        "data=pd.read_csv('/content/drive/MyDrive/Datasets/best-selling-gameboy.csv')"
      ],
      "metadata": {
        "id": "8yY-0kfcCRwX"
      },
      "execution_count": null,
      "outputs": []
    },
    {
      "cell_type": "code",
      "source": [
        "data.head(5)"
      ],
      "metadata": {
        "colab": {
          "base_uri": "https://localhost:8080/",
          "height": 206
        },
        "id": "YPl8qf0iGxyG",
        "outputId": "bc71b876-f618-4054-af9d-4276160df2eb"
      },
      "execution_count": null,
      "outputs": [
        {
          "output_type": "execute_result",
          "data": {
            "text/plain": [
              "                                  Game   Developer(s) Publisher  \\\n",
              "0  Pokémon Red / Green / Blue / Yellow     Game Freak  Nintendo   \n",
              "1                               Tetris  Nintendo R&D1  Nintendo   \n",
              "2      Pokémon Gold / Silver / Crystal     Game Freak  Nintendo   \n",
              "3                     Super Mario Land  Nintendo R&D1  Nintendo   \n",
              "4   Super Mario Land 2: 6 Golden Coins  Nintendo R&D1  Nintendo   \n",
              "\n",
              "         Platform Release date     Sales  \n",
              "0        Game Boy   1996-02-27  46020000  \n",
              "1        Game Boy   1989-06-14  35000000  \n",
              "2  Game Boy Color   1999-11-21  29490000  \n",
              "3        Game Boy   1989-04-21  18140000  \n",
              "4        Game Boy   1992-10-21  11180000  "
            ],
            "text/html": [
              "\n",
              "  <div id=\"df-fe7244f9-54f9-4e99-80bf-754b3cfa7403\">\n",
              "    <div class=\"colab-df-container\">\n",
              "      <div>\n",
              "<style scoped>\n",
              "    .dataframe tbody tr th:only-of-type {\n",
              "        vertical-align: middle;\n",
              "    }\n",
              "\n",
              "    .dataframe tbody tr th {\n",
              "        vertical-align: top;\n",
              "    }\n",
              "\n",
              "    .dataframe thead th {\n",
              "        text-align: right;\n",
              "    }\n",
              "</style>\n",
              "<table border=\"1\" class=\"dataframe\">\n",
              "  <thead>\n",
              "    <tr style=\"text-align: right;\">\n",
              "      <th></th>\n",
              "      <th>Game</th>\n",
              "      <th>Developer(s)</th>\n",
              "      <th>Publisher</th>\n",
              "      <th>Platform</th>\n",
              "      <th>Release date</th>\n",
              "      <th>Sales</th>\n",
              "    </tr>\n",
              "  </thead>\n",
              "  <tbody>\n",
              "    <tr>\n",
              "      <th>0</th>\n",
              "      <td>Pokémon Red / Green / Blue / Yellow</td>\n",
              "      <td>Game Freak</td>\n",
              "      <td>Nintendo</td>\n",
              "      <td>Game Boy</td>\n",
              "      <td>1996-02-27</td>\n",
              "      <td>46020000</td>\n",
              "    </tr>\n",
              "    <tr>\n",
              "      <th>1</th>\n",
              "      <td>Tetris</td>\n",
              "      <td>Nintendo R&amp;D1</td>\n",
              "      <td>Nintendo</td>\n",
              "      <td>Game Boy</td>\n",
              "      <td>1989-06-14</td>\n",
              "      <td>35000000</td>\n",
              "    </tr>\n",
              "    <tr>\n",
              "      <th>2</th>\n",
              "      <td>Pokémon Gold / Silver / Crystal</td>\n",
              "      <td>Game Freak</td>\n",
              "      <td>Nintendo</td>\n",
              "      <td>Game Boy Color</td>\n",
              "      <td>1999-11-21</td>\n",
              "      <td>29490000</td>\n",
              "    </tr>\n",
              "    <tr>\n",
              "      <th>3</th>\n",
              "      <td>Super Mario Land</td>\n",
              "      <td>Nintendo R&amp;D1</td>\n",
              "      <td>Nintendo</td>\n",
              "      <td>Game Boy</td>\n",
              "      <td>1989-04-21</td>\n",
              "      <td>18140000</td>\n",
              "    </tr>\n",
              "    <tr>\n",
              "      <th>4</th>\n",
              "      <td>Super Mario Land 2: 6 Golden Coins</td>\n",
              "      <td>Nintendo R&amp;D1</td>\n",
              "      <td>Nintendo</td>\n",
              "      <td>Game Boy</td>\n",
              "      <td>1992-10-21</td>\n",
              "      <td>11180000</td>\n",
              "    </tr>\n",
              "  </tbody>\n",
              "</table>\n",
              "</div>\n",
              "      <button class=\"colab-df-convert\" onclick=\"convertToInteractive('df-fe7244f9-54f9-4e99-80bf-754b3cfa7403')\"\n",
              "              title=\"Convert this dataframe to an interactive table.\"\n",
              "              style=\"display:none;\">\n",
              "        \n",
              "  <svg xmlns=\"http://www.w3.org/2000/svg\" height=\"24px\"viewBox=\"0 0 24 24\"\n",
              "       width=\"24px\">\n",
              "    <path d=\"M0 0h24v24H0V0z\" fill=\"none\"/>\n",
              "    <path d=\"M18.56 5.44l.94 2.06.94-2.06 2.06-.94-2.06-.94-.94-2.06-.94 2.06-2.06.94zm-11 1L8.5 8.5l.94-2.06 2.06-.94-2.06-.94L8.5 2.5l-.94 2.06-2.06.94zm10 10l.94 2.06.94-2.06 2.06-.94-2.06-.94-.94-2.06-.94 2.06-2.06.94z\"/><path d=\"M17.41 7.96l-1.37-1.37c-.4-.4-.92-.59-1.43-.59-.52 0-1.04.2-1.43.59L10.3 9.45l-7.72 7.72c-.78.78-.78 2.05 0 2.83L4 21.41c.39.39.9.59 1.41.59.51 0 1.02-.2 1.41-.59l7.78-7.78 2.81-2.81c.8-.78.8-2.07 0-2.86zM5.41 20L4 18.59l7.72-7.72 1.47 1.35L5.41 20z\"/>\n",
              "  </svg>\n",
              "      </button>\n",
              "      \n",
              "  <style>\n",
              "    .colab-df-container {\n",
              "      display:flex;\n",
              "      flex-wrap:wrap;\n",
              "      gap: 12px;\n",
              "    }\n",
              "\n",
              "    .colab-df-convert {\n",
              "      background-color: #E8F0FE;\n",
              "      border: none;\n",
              "      border-radius: 50%;\n",
              "      cursor: pointer;\n",
              "      display: none;\n",
              "      fill: #1967D2;\n",
              "      height: 32px;\n",
              "      padding: 0 0 0 0;\n",
              "      width: 32px;\n",
              "    }\n",
              "\n",
              "    .colab-df-convert:hover {\n",
              "      background-color: #E2EBFA;\n",
              "      box-shadow: 0px 1px 2px rgba(60, 64, 67, 0.3), 0px 1px 3px 1px rgba(60, 64, 67, 0.15);\n",
              "      fill: #174EA6;\n",
              "    }\n",
              "\n",
              "    [theme=dark] .colab-df-convert {\n",
              "      background-color: #3B4455;\n",
              "      fill: #D2E3FC;\n",
              "    }\n",
              "\n",
              "    [theme=dark] .colab-df-convert:hover {\n",
              "      background-color: #434B5C;\n",
              "      box-shadow: 0px 1px 3px 1px rgba(0, 0, 0, 0.15);\n",
              "      filter: drop-shadow(0px 1px 2px rgba(0, 0, 0, 0.3));\n",
              "      fill: #FFFFFF;\n",
              "    }\n",
              "  </style>\n",
              "\n",
              "      <script>\n",
              "        const buttonEl =\n",
              "          document.querySelector('#df-fe7244f9-54f9-4e99-80bf-754b3cfa7403 button.colab-df-convert');\n",
              "        buttonEl.style.display =\n",
              "          google.colab.kernel.accessAllowed ? 'block' : 'none';\n",
              "\n",
              "        async function convertToInteractive(key) {\n",
              "          const element = document.querySelector('#df-fe7244f9-54f9-4e99-80bf-754b3cfa7403');\n",
              "          const dataTable =\n",
              "            await google.colab.kernel.invokeFunction('convertToInteractive',\n",
              "                                                     [key], {});\n",
              "          if (!dataTable) return;\n",
              "\n",
              "          const docLinkHtml = 'Like what you see? Visit the ' +\n",
              "            '<a target=\"_blank\" href=https://colab.research.google.com/notebooks/data_table.ipynb>data table notebook</a>'\n",
              "            + ' to learn more about interactive tables.';\n",
              "          element.innerHTML = '';\n",
              "          dataTable['output_type'] = 'display_data';\n",
              "          await google.colab.output.renderOutput(dataTable, element);\n",
              "          const docLink = document.createElement('div');\n",
              "          docLink.innerHTML = docLinkHtml;\n",
              "          element.appendChild(docLink);\n",
              "        }\n",
              "      </script>\n",
              "    </div>\n",
              "  </div>\n",
              "  "
            ]
          },
          "metadata": {},
          "execution_count": 4
        }
      ]
    },
    {
      "cell_type": "code",
      "source": [
        "data.tail(5)"
      ],
      "metadata": {
        "colab": {
          "base_uri": "https://localhost:8080/",
          "height": 206
        },
        "id": "sHtdTlYCG05L",
        "outputId": "2359fa5c-3bb8-497a-d65b-3be1f163cd37"
      },
      "execution_count": null,
      "outputs": [
        {
          "output_type": "execute_result",
          "data": {
            "text/plain": [
              "                    Game  Developer(s)   Publisher  Platform Release date  \\\n",
              "61        Space Invaders         Taito    Nintendo  Game Boy   1994-01-01   \n",
              "62            The Smurfs  Bit Managers  Infogrames  Game Boy   1994-01-01   \n",
              "63     Street Fighter II         Sun L    Nintendo  Game Boy   1995-08-11   \n",
              "64  Game & Watch Gallery          Tose    Nintendo  Game Boy   1997-02-01   \n",
              "65        James Bond 007       Saffire    Nintendo  Game Boy   1998-01-29   \n",
              "\n",
              "      Sales  \n",
              "61  1000000  \n",
              "62  1000000  \n",
              "63  1000000  \n",
              "64  1000000  \n",
              "65  1000000  "
            ],
            "text/html": [
              "\n",
              "  <div id=\"df-3dbd1380-420f-4157-88d8-93e7e3a6570f\">\n",
              "    <div class=\"colab-df-container\">\n",
              "      <div>\n",
              "<style scoped>\n",
              "    .dataframe tbody tr th:only-of-type {\n",
              "        vertical-align: middle;\n",
              "    }\n",
              "\n",
              "    .dataframe tbody tr th {\n",
              "        vertical-align: top;\n",
              "    }\n",
              "\n",
              "    .dataframe thead th {\n",
              "        text-align: right;\n",
              "    }\n",
              "</style>\n",
              "<table border=\"1\" class=\"dataframe\">\n",
              "  <thead>\n",
              "    <tr style=\"text-align: right;\">\n",
              "      <th></th>\n",
              "      <th>Game</th>\n",
              "      <th>Developer(s)</th>\n",
              "      <th>Publisher</th>\n",
              "      <th>Platform</th>\n",
              "      <th>Release date</th>\n",
              "      <th>Sales</th>\n",
              "    </tr>\n",
              "  </thead>\n",
              "  <tbody>\n",
              "    <tr>\n",
              "      <th>61</th>\n",
              "      <td>Space Invaders</td>\n",
              "      <td>Taito</td>\n",
              "      <td>Nintendo</td>\n",
              "      <td>Game Boy</td>\n",
              "      <td>1994-01-01</td>\n",
              "      <td>1000000</td>\n",
              "    </tr>\n",
              "    <tr>\n",
              "      <th>62</th>\n",
              "      <td>The Smurfs</td>\n",
              "      <td>Bit Managers</td>\n",
              "      <td>Infogrames</td>\n",
              "      <td>Game Boy</td>\n",
              "      <td>1994-01-01</td>\n",
              "      <td>1000000</td>\n",
              "    </tr>\n",
              "    <tr>\n",
              "      <th>63</th>\n",
              "      <td>Street Fighter II</td>\n",
              "      <td>Sun L</td>\n",
              "      <td>Nintendo</td>\n",
              "      <td>Game Boy</td>\n",
              "      <td>1995-08-11</td>\n",
              "      <td>1000000</td>\n",
              "    </tr>\n",
              "    <tr>\n",
              "      <th>64</th>\n",
              "      <td>Game &amp; Watch Gallery</td>\n",
              "      <td>Tose</td>\n",
              "      <td>Nintendo</td>\n",
              "      <td>Game Boy</td>\n",
              "      <td>1997-02-01</td>\n",
              "      <td>1000000</td>\n",
              "    </tr>\n",
              "    <tr>\n",
              "      <th>65</th>\n",
              "      <td>James Bond 007</td>\n",
              "      <td>Saffire</td>\n",
              "      <td>Nintendo</td>\n",
              "      <td>Game Boy</td>\n",
              "      <td>1998-01-29</td>\n",
              "      <td>1000000</td>\n",
              "    </tr>\n",
              "  </tbody>\n",
              "</table>\n",
              "</div>\n",
              "      <button class=\"colab-df-convert\" onclick=\"convertToInteractive('df-3dbd1380-420f-4157-88d8-93e7e3a6570f')\"\n",
              "              title=\"Convert this dataframe to an interactive table.\"\n",
              "              style=\"display:none;\">\n",
              "        \n",
              "  <svg xmlns=\"http://www.w3.org/2000/svg\" height=\"24px\"viewBox=\"0 0 24 24\"\n",
              "       width=\"24px\">\n",
              "    <path d=\"M0 0h24v24H0V0z\" fill=\"none\"/>\n",
              "    <path d=\"M18.56 5.44l.94 2.06.94-2.06 2.06-.94-2.06-.94-.94-2.06-.94 2.06-2.06.94zm-11 1L8.5 8.5l.94-2.06 2.06-.94-2.06-.94L8.5 2.5l-.94 2.06-2.06.94zm10 10l.94 2.06.94-2.06 2.06-.94-2.06-.94-.94-2.06-.94 2.06-2.06.94z\"/><path d=\"M17.41 7.96l-1.37-1.37c-.4-.4-.92-.59-1.43-.59-.52 0-1.04.2-1.43.59L10.3 9.45l-7.72 7.72c-.78.78-.78 2.05 0 2.83L4 21.41c.39.39.9.59 1.41.59.51 0 1.02-.2 1.41-.59l7.78-7.78 2.81-2.81c.8-.78.8-2.07 0-2.86zM5.41 20L4 18.59l7.72-7.72 1.47 1.35L5.41 20z\"/>\n",
              "  </svg>\n",
              "      </button>\n",
              "      \n",
              "  <style>\n",
              "    .colab-df-container {\n",
              "      display:flex;\n",
              "      flex-wrap:wrap;\n",
              "      gap: 12px;\n",
              "    }\n",
              "\n",
              "    .colab-df-convert {\n",
              "      background-color: #E8F0FE;\n",
              "      border: none;\n",
              "      border-radius: 50%;\n",
              "      cursor: pointer;\n",
              "      display: none;\n",
              "      fill: #1967D2;\n",
              "      height: 32px;\n",
              "      padding: 0 0 0 0;\n",
              "      width: 32px;\n",
              "    }\n",
              "\n",
              "    .colab-df-convert:hover {\n",
              "      background-color: #E2EBFA;\n",
              "      box-shadow: 0px 1px 2px rgba(60, 64, 67, 0.3), 0px 1px 3px 1px rgba(60, 64, 67, 0.15);\n",
              "      fill: #174EA6;\n",
              "    }\n",
              "\n",
              "    [theme=dark] .colab-df-convert {\n",
              "      background-color: #3B4455;\n",
              "      fill: #D2E3FC;\n",
              "    }\n",
              "\n",
              "    [theme=dark] .colab-df-convert:hover {\n",
              "      background-color: #434B5C;\n",
              "      box-shadow: 0px 1px 3px 1px rgba(0, 0, 0, 0.15);\n",
              "      filter: drop-shadow(0px 1px 2px rgba(0, 0, 0, 0.3));\n",
              "      fill: #FFFFFF;\n",
              "    }\n",
              "  </style>\n",
              "\n",
              "      <script>\n",
              "        const buttonEl =\n",
              "          document.querySelector('#df-3dbd1380-420f-4157-88d8-93e7e3a6570f button.colab-df-convert');\n",
              "        buttonEl.style.display =\n",
              "          google.colab.kernel.accessAllowed ? 'block' : 'none';\n",
              "\n",
              "        async function convertToInteractive(key) {\n",
              "          const element = document.querySelector('#df-3dbd1380-420f-4157-88d8-93e7e3a6570f');\n",
              "          const dataTable =\n",
              "            await google.colab.kernel.invokeFunction('convertToInteractive',\n",
              "                                                     [key], {});\n",
              "          if (!dataTable) return;\n",
              "\n",
              "          const docLinkHtml = 'Like what you see? Visit the ' +\n",
              "            '<a target=\"_blank\" href=https://colab.research.google.com/notebooks/data_table.ipynb>data table notebook</a>'\n",
              "            + ' to learn more about interactive tables.';\n",
              "          element.innerHTML = '';\n",
              "          dataTable['output_type'] = 'display_data';\n",
              "          await google.colab.output.renderOutput(dataTable, element);\n",
              "          const docLink = document.createElement('div');\n",
              "          docLink.innerHTML = docLinkHtml;\n",
              "          element.appendChild(docLink);\n",
              "        }\n",
              "      </script>\n",
              "    </div>\n",
              "  </div>\n",
              "  "
            ]
          },
          "metadata": {},
          "execution_count": 5
        }
      ]
    },
    {
      "cell_type": "code",
      "source": [
        "data.size"
      ],
      "metadata": {
        "colab": {
          "base_uri": "https://localhost:8080/"
        },
        "id": "TOuXH5-mG2_-",
        "outputId": "cc1a6417-6b4b-4dba-b5ec-014d97fea085"
      },
      "execution_count": null,
      "outputs": [
        {
          "output_type": "execute_result",
          "data": {
            "text/plain": [
              "396"
            ]
          },
          "metadata": {},
          "execution_count": 6
        }
      ]
    },
    {
      "cell_type": "code",
      "source": [
        "data.shape"
      ],
      "metadata": {
        "colab": {
          "base_uri": "https://localhost:8080/"
        },
        "id": "1cd9I8StG4p3",
        "outputId": "efafa6be-b1d4-4c19-fc37-48c076ca920a"
      },
      "execution_count": null,
      "outputs": [
        {
          "output_type": "execute_result",
          "data": {
            "text/plain": [
              "(66, 6)"
            ]
          },
          "metadata": {},
          "execution_count": 7
        }
      ]
    },
    {
      "cell_type": "code",
      "source": [
        "data.info()"
      ],
      "metadata": {
        "colab": {
          "base_uri": "https://localhost:8080/"
        },
        "id": "j3tg9dX6G5_4",
        "outputId": "9dfb84a3-b402-4c40-801e-1570e6f3ad84"
      },
      "execution_count": null,
      "outputs": [
        {
          "output_type": "stream",
          "name": "stdout",
          "text": [
            "<class 'pandas.core.frame.DataFrame'>\n",
            "RangeIndex: 66 entries, 0 to 65\n",
            "Data columns (total 6 columns):\n",
            " #   Column        Non-Null Count  Dtype \n",
            "---  ------        --------------  ----- \n",
            " 0   Game          66 non-null     object\n",
            " 1   Developer(s)  66 non-null     object\n",
            " 2   Publisher     66 non-null     object\n",
            " 3   Platform      66 non-null     object\n",
            " 4   Release date  66 non-null     object\n",
            " 5   Sales         66 non-null     int64 \n",
            "dtypes: int64(1), object(5)\n",
            "memory usage: 3.2+ KB\n"
          ]
        }
      ]
    },
    {
      "cell_type": "code",
      "source": [
        "data.describe"
      ],
      "metadata": {
        "colab": {
          "base_uri": "https://localhost:8080/"
        },
        "id": "1njXtAPPG784",
        "outputId": "cc6ed9f6-ec8d-4982-83d2-16ea6c10a7a9"
      },
      "execution_count": null,
      "outputs": [
        {
          "output_type": "execute_result",
          "data": {
            "text/plain": [
              "<bound method NDFrame.describe of                                    Game   Developer(s)   Publisher  \\\n",
              "0   Pokémon Red / Green / Blue / Yellow     Game Freak    Nintendo   \n",
              "1                                Tetris  Nintendo R&D1    Nintendo   \n",
              "2       Pokémon Gold / Silver / Crystal     Game Freak    Nintendo   \n",
              "3                      Super Mario Land  Nintendo R&D1    Nintendo   \n",
              "4    Super Mario Land 2: 6 Golden Coins  Nintendo R&D1    Nintendo   \n",
              "..                                  ...            ...         ...   \n",
              "61                       Space Invaders          Taito    Nintendo   \n",
              "62                           The Smurfs   Bit Managers  Infogrames   \n",
              "63                    Street Fighter II          Sun L    Nintendo   \n",
              "64                 Game & Watch Gallery           Tose    Nintendo   \n",
              "65                       James Bond 007        Saffire    Nintendo   \n",
              "\n",
              "          Platform Release date     Sales  \n",
              "0         Game Boy   1996-02-27  46020000  \n",
              "1         Game Boy   1989-06-14  35000000  \n",
              "2   Game Boy Color   1999-11-21  29490000  \n",
              "3         Game Boy   1989-04-21  18140000  \n",
              "4         Game Boy   1992-10-21  11180000  \n",
              "..             ...          ...       ...  \n",
              "61        Game Boy   1994-01-01   1000000  \n",
              "62        Game Boy   1994-01-01   1000000  \n",
              "63        Game Boy   1995-08-11   1000000  \n",
              "64        Game Boy   1997-02-01   1000000  \n",
              "65        Game Boy   1998-01-29   1000000  \n",
              "\n",
              "[66 rows x 6 columns]>"
            ]
          },
          "metadata": {},
          "execution_count": 9
        }
      ]
    },
    {
      "cell_type": "code",
      "source": [
        "data.isnull().sum()"
      ],
      "metadata": {
        "colab": {
          "base_uri": "https://localhost:8080/"
        },
        "id": "3COCA_k3G-Bd",
        "outputId": "7d9daae2-f355-48e1-dcbe-4e53124fb391"
      },
      "execution_count": null,
      "outputs": [
        {
          "output_type": "execute_result",
          "data": {
            "text/plain": [
              "Game            0\n",
              "Developer(s)    0\n",
              "Publisher       0\n",
              "Platform        0\n",
              "Release date    0\n",
              "Sales           0\n",
              "dtype: int64"
            ]
          },
          "metadata": {},
          "execution_count": 10
        }
      ]
    },
    {
      "cell_type": "code",
      "source": [
        "data=data.drop(['Release date'],axis=1)"
      ],
      "metadata": {
        "id": "le6fiXanHGCR"
      },
      "execution_count": null,
      "outputs": []
    },
    {
      "cell_type": "code",
      "source": [
        "data.size"
      ],
      "metadata": {
        "colab": {
          "base_uri": "https://localhost:8080/"
        },
        "id": "KAwl79BtHTAq",
        "outputId": "db99e861-e7c0-4f7d-a8ce-872d6e98af52"
      },
      "execution_count": null,
      "outputs": [
        {
          "output_type": "execute_result",
          "data": {
            "text/plain": [
              "330"
            ]
          },
          "metadata": {},
          "execution_count": 12
        }
      ]
    },
    {
      "cell_type": "code",
      "source": [
        "data.shape"
      ],
      "metadata": {
        "colab": {
          "base_uri": "https://localhost:8080/"
        },
        "id": "9O2LAZxCHUz6",
        "outputId": "b2f1be7b-e677-4250-b542-62f1c81f34d6"
      },
      "execution_count": null,
      "outputs": [
        {
          "output_type": "execute_result",
          "data": {
            "text/plain": [
              "(66, 5)"
            ]
          },
          "metadata": {},
          "execution_count": 13
        }
      ]
    },
    {
      "cell_type": "code",
      "source": [
        "from sklearn.preprocessing import LabelEncoder\n",
        "lbn=LabelEncoder()\n",
        "X=data.iloc[:,0].values\n",
        "data.iloc[:,0]=lbn.fit_transform(X)\n",
        "X=X.reshape(-1,1)"
      ],
      "metadata": {
        "id": "9UxqISzeHWUl"
      },
      "execution_count": null,
      "outputs": []
    },
    {
      "cell_type": "code",
      "source": [
        "from sklearn.preprocessing import LabelEncoder\n",
        "lbn=LabelEncoder()\n",
        "X=data.iloc[:,1].values\n",
        "data.iloc[:,1]=lbn.fit_transform(X)\n",
        "X=X.reshape(-1,1)"
      ],
      "metadata": {
        "id": "ukPj-SXYHr8p"
      },
      "execution_count": null,
      "outputs": []
    },
    {
      "cell_type": "code",
      "source": [
        "from sklearn.preprocessing import LabelEncoder\n",
        "lbn=LabelEncoder()\n",
        "X=data.iloc[:,2].values\n",
        "data.iloc[:,2]=lbn.fit_transform(X)\n",
        "X=X.reshape(-1,1)"
      ],
      "metadata": {
        "id": "qABepoEHHy5G"
      },
      "execution_count": null,
      "outputs": []
    },
    {
      "cell_type": "code",
      "source": [
        "from sklearn.preprocessing import LabelEncoder\n",
        "lbn=LabelEncoder()\n",
        "X=data.iloc[:,3].values\n",
        "data.iloc[:,3]=lbn.fit_transform(X)\n",
        "X=X.reshape(-1,1)"
      ],
      "metadata": {
        "id": "Og_cDRC6H0cx"
      },
      "execution_count": null,
      "outputs": []
    },
    {
      "cell_type": "code",
      "source": [
        "data.tail(5)"
      ],
      "metadata": {
        "colab": {
          "base_uri": "https://localhost:8080/",
          "height": 206
        },
        "id": "TTrAjPyEH3iy",
        "outputId": "1de673c7-6d80-4f1f-95c8-79b829d66927"
      },
      "execution_count": null,
      "outputs": [
        {
          "output_type": "execute_result",
          "data": {
            "text/plain": [
              "    Game  Developer(s)  Publisher  Platform    Sales\n",
              "61    35            29          6         0  1000000\n",
              "62    54             1          3         0  1000000\n",
              "63    37            28          6         0  1000000\n",
              "64    13            30          6         0  1000000\n",
              "65    18            26          6         0  1000000"
            ],
            "text/html": [
              "\n",
              "  <div id=\"df-fbe4e9c8-b80b-4af4-be1e-292239b1a1a3\">\n",
              "    <div class=\"colab-df-container\">\n",
              "      <div>\n",
              "<style scoped>\n",
              "    .dataframe tbody tr th:only-of-type {\n",
              "        vertical-align: middle;\n",
              "    }\n",
              "\n",
              "    .dataframe tbody tr th {\n",
              "        vertical-align: top;\n",
              "    }\n",
              "\n",
              "    .dataframe thead th {\n",
              "        text-align: right;\n",
              "    }\n",
              "</style>\n",
              "<table border=\"1\" class=\"dataframe\">\n",
              "  <thead>\n",
              "    <tr style=\"text-align: right;\">\n",
              "      <th></th>\n",
              "      <th>Game</th>\n",
              "      <th>Developer(s)</th>\n",
              "      <th>Publisher</th>\n",
              "      <th>Platform</th>\n",
              "      <th>Sales</th>\n",
              "    </tr>\n",
              "  </thead>\n",
              "  <tbody>\n",
              "    <tr>\n",
              "      <th>61</th>\n",
              "      <td>35</td>\n",
              "      <td>29</td>\n",
              "      <td>6</td>\n",
              "      <td>0</td>\n",
              "      <td>1000000</td>\n",
              "    </tr>\n",
              "    <tr>\n",
              "      <th>62</th>\n",
              "      <td>54</td>\n",
              "      <td>1</td>\n",
              "      <td>3</td>\n",
              "      <td>0</td>\n",
              "      <td>1000000</td>\n",
              "    </tr>\n",
              "    <tr>\n",
              "      <th>63</th>\n",
              "      <td>37</td>\n",
              "      <td>28</td>\n",
              "      <td>6</td>\n",
              "      <td>0</td>\n",
              "      <td>1000000</td>\n",
              "    </tr>\n",
              "    <tr>\n",
              "      <th>64</th>\n",
              "      <td>13</td>\n",
              "      <td>30</td>\n",
              "      <td>6</td>\n",
              "      <td>0</td>\n",
              "      <td>1000000</td>\n",
              "    </tr>\n",
              "    <tr>\n",
              "      <th>65</th>\n",
              "      <td>18</td>\n",
              "      <td>26</td>\n",
              "      <td>6</td>\n",
              "      <td>0</td>\n",
              "      <td>1000000</td>\n",
              "    </tr>\n",
              "  </tbody>\n",
              "</table>\n",
              "</div>\n",
              "      <button class=\"colab-df-convert\" onclick=\"convertToInteractive('df-fbe4e9c8-b80b-4af4-be1e-292239b1a1a3')\"\n",
              "              title=\"Convert this dataframe to an interactive table.\"\n",
              "              style=\"display:none;\">\n",
              "        \n",
              "  <svg xmlns=\"http://www.w3.org/2000/svg\" height=\"24px\"viewBox=\"0 0 24 24\"\n",
              "       width=\"24px\">\n",
              "    <path d=\"M0 0h24v24H0V0z\" fill=\"none\"/>\n",
              "    <path d=\"M18.56 5.44l.94 2.06.94-2.06 2.06-.94-2.06-.94-.94-2.06-.94 2.06-2.06.94zm-11 1L8.5 8.5l.94-2.06 2.06-.94-2.06-.94L8.5 2.5l-.94 2.06-2.06.94zm10 10l.94 2.06.94-2.06 2.06-.94-2.06-.94-.94-2.06-.94 2.06-2.06.94z\"/><path d=\"M17.41 7.96l-1.37-1.37c-.4-.4-.92-.59-1.43-.59-.52 0-1.04.2-1.43.59L10.3 9.45l-7.72 7.72c-.78.78-.78 2.05 0 2.83L4 21.41c.39.39.9.59 1.41.59.51 0 1.02-.2 1.41-.59l7.78-7.78 2.81-2.81c.8-.78.8-2.07 0-2.86zM5.41 20L4 18.59l7.72-7.72 1.47 1.35L5.41 20z\"/>\n",
              "  </svg>\n",
              "      </button>\n",
              "      \n",
              "  <style>\n",
              "    .colab-df-container {\n",
              "      display:flex;\n",
              "      flex-wrap:wrap;\n",
              "      gap: 12px;\n",
              "    }\n",
              "\n",
              "    .colab-df-convert {\n",
              "      background-color: #E8F0FE;\n",
              "      border: none;\n",
              "      border-radius: 50%;\n",
              "      cursor: pointer;\n",
              "      display: none;\n",
              "      fill: #1967D2;\n",
              "      height: 32px;\n",
              "      padding: 0 0 0 0;\n",
              "      width: 32px;\n",
              "    }\n",
              "\n",
              "    .colab-df-convert:hover {\n",
              "      background-color: #E2EBFA;\n",
              "      box-shadow: 0px 1px 2px rgba(60, 64, 67, 0.3), 0px 1px 3px 1px rgba(60, 64, 67, 0.15);\n",
              "      fill: #174EA6;\n",
              "    }\n",
              "\n",
              "    [theme=dark] .colab-df-convert {\n",
              "      background-color: #3B4455;\n",
              "      fill: #D2E3FC;\n",
              "    }\n",
              "\n",
              "    [theme=dark] .colab-df-convert:hover {\n",
              "      background-color: #434B5C;\n",
              "      box-shadow: 0px 1px 3px 1px rgba(0, 0, 0, 0.15);\n",
              "      filter: drop-shadow(0px 1px 2px rgba(0, 0, 0, 0.3));\n",
              "      fill: #FFFFFF;\n",
              "    }\n",
              "  </style>\n",
              "\n",
              "      <script>\n",
              "        const buttonEl =\n",
              "          document.querySelector('#df-fbe4e9c8-b80b-4af4-be1e-292239b1a1a3 button.colab-df-convert');\n",
              "        buttonEl.style.display =\n",
              "          google.colab.kernel.accessAllowed ? 'block' : 'none';\n",
              "\n",
              "        async function convertToInteractive(key) {\n",
              "          const element = document.querySelector('#df-fbe4e9c8-b80b-4af4-be1e-292239b1a1a3');\n",
              "          const dataTable =\n",
              "            await google.colab.kernel.invokeFunction('convertToInteractive',\n",
              "                                                     [key], {});\n",
              "          if (!dataTable) return;\n",
              "\n",
              "          const docLinkHtml = 'Like what you see? Visit the ' +\n",
              "            '<a target=\"_blank\" href=https://colab.research.google.com/notebooks/data_table.ipynb>data table notebook</a>'\n",
              "            + ' to learn more about interactive tables.';\n",
              "          element.innerHTML = '';\n",
              "          dataTable['output_type'] = 'display_data';\n",
              "          await google.colab.output.renderOutput(dataTable, element);\n",
              "          const docLink = document.createElement('div');\n",
              "          docLink.innerHTML = docLinkHtml;\n",
              "          element.appendChild(docLink);\n",
              "        }\n",
              "      </script>\n",
              "    </div>\n",
              "  </div>\n",
              "  "
            ]
          },
          "metadata": {},
          "execution_count": 18
        }
      ]
    },
    {
      "cell_type": "code",
      "source": [
        "X=data[['Game','Developer(s)','Publisher','Sales']]\n",
        "Y=data['Platform']"
      ],
      "metadata": {
        "id": "jarcnfEjH5Ua"
      },
      "execution_count": null,
      "outputs": []
    },
    {
      "cell_type": "code",
      "source": [
        "from sklearn.model_selection import train_test_split\n",
        "X_train,X_test,Y_train,Y_test=train_test_split(X,Y,test_size=0.25)"
      ],
      "metadata": {
        "id": "0MHccldKIMB9"
      },
      "execution_count": null,
      "outputs": []
    },
    {
      "cell_type": "code",
      "source": [
        "from sklearn.preprocessing import MinMaxScaler\n",
        "ms=MinMaxScaler()\n",
        "X_train_min=ms.fit_transform(X_train)\n",
        "X_test_min=ms.transform(X_test)"
      ],
      "metadata": {
        "id": "QVEpThxuIY9-"
      },
      "execution_count": null,
      "outputs": []
    },
    {
      "cell_type": "code",
      "source": [
        "from sklearn.preprocessing import StandardScaler\n",
        "ss=StandardScaler()\n",
        "X_train_norm=ss.fit_transform(X_train)\n",
        "X_test_norm=ss.transform(X_test)"
      ],
      "metadata": {
        "id": "qzfydovSInc-"
      },
      "execution_count": null,
      "outputs": []
    },
    {
      "cell_type": "code",
      "source": [
        "from sklearn.decomposition import PCA\n",
        "pca=PCA(n_components=2)\n",
        "X_train_pca=pca.fit_transform(X_train)\n",
        "X_train_pca=pca.transform(X_train)\n",
        "X_test_pca=pca.fit_transform(X_test)\n",
        "X_test_pca=pca.transform(X_test)\n",
        "pca.explained_variance_ratio_"
      ],
      "metadata": {
        "colab": {
          "base_uri": "https://localhost:8080/"
        },
        "id": "EAHSa9_6I0eg",
        "outputId": "e33b76d7-d388-4a04-cedd-196131395a26"
      },
      "execution_count": null,
      "outputs": [
        {
          "output_type": "execute_result",
          "data": {
            "text/plain": [
              "array([1.00000000e+00, 8.37281222e-11])"
            ]
          },
          "metadata": {},
          "execution_count": 23
        }
      ]
    },
    {
      "cell_type": "markdown",
      "source": [
        "#K-Nearest Neighbor"
      ],
      "metadata": {
        "id": "ebD9ieV2NPd8"
      }
    },
    {
      "cell_type": "code",
      "source": [
        "#KNN Minmax\n",
        "from sklearn.neighbors import KNeighborsClassifier\n",
        "knn=KNeighborsClassifier(n_neighbors=6)\n",
        "knn.fit(X_train_min,Y_train)\n",
        "prediction=knn.predict(X_test_min)\n",
        "\n",
        "from sklearn.metrics import accuracy_score\n",
        "accuracy=accuracy_score(Y_test,prediction)\n",
        "print(\"Accuracy is\",accuracy*100,\"%\")\n",
        "\n",
        "target_names=['Game Boy','Game Boy Color']\n",
        "print(classification_report(Y_test,prediction.reshape(-1,1),target_names=target_names))\n",
        "cm=confusion_matrix(Y_test,prediction.reshape(-1,1),normalize='true')\n",
        "disp=ConfusionMatrixDisplay(confusion_matrix=cm,display_labels=target_names)\n",
        "fig,ax=plt.subplots(figsize=(8,6))\n",
        "disp.plot(ax=ax,cmap='Blues')"
      ],
      "metadata": {
        "colab": {
          "base_uri": "https://localhost:8080/",
          "height": 707
        },
        "id": "i318bOgzJLQr",
        "outputId": "a40bf542-72c2-4746-de30-c39671736026"
      },
      "execution_count": null,
      "outputs": [
        {
          "output_type": "stream",
          "name": "stdout",
          "text": [
            "Accuracy is 58.82352941176471 %\n",
            "                precision    recall  f1-score   support\n",
            "\n",
            "      Game Boy       0.59      1.00      0.74        10\n",
            "Game Boy Color       0.00      0.00      0.00         7\n",
            "\n",
            "      accuracy                           0.59        17\n",
            "     macro avg       0.29      0.50      0.37        17\n",
            "  weighted avg       0.35      0.59      0.44        17\n",
            "\n"
          ]
        },
        {
          "output_type": "stream",
          "name": "stderr",
          "text": [
            "/usr/local/lib/python3.8/dist-packages/sklearn/metrics/_classification.py:1318: UndefinedMetricWarning: Precision and F-score are ill-defined and being set to 0.0 in labels with no predicted samples. Use `zero_division` parameter to control this behavior.\n",
            "  _warn_prf(average, modifier, msg_start, len(result))\n",
            "/usr/local/lib/python3.8/dist-packages/sklearn/metrics/_classification.py:1318: UndefinedMetricWarning: Precision and F-score are ill-defined and being set to 0.0 in labels with no predicted samples. Use `zero_division` parameter to control this behavior.\n",
            "  _warn_prf(average, modifier, msg_start, len(result))\n",
            "/usr/local/lib/python3.8/dist-packages/sklearn/metrics/_classification.py:1318: UndefinedMetricWarning: Precision and F-score are ill-defined and being set to 0.0 in labels with no predicted samples. Use `zero_division` parameter to control this behavior.\n",
            "  _warn_prf(average, modifier, msg_start, len(result))\n"
          ]
        },
        {
          "output_type": "execute_result",
          "data": {
            "text/plain": [
              "<sklearn.metrics._plot.confusion_matrix.ConfusionMatrixDisplay at 0x7f17298ebfa0>"
            ]
          },
          "metadata": {},
          "execution_count": 24
        },
        {
          "output_type": "display_data",
          "data": {
            "text/plain": [
              "<Figure size 576x432 with 2 Axes>"
            ],
            "image/png": "[encoded data removed]"
          },
          "metadata": {
            "needs_background": "light"
          }
        }
      ]
    },
    {
      "cell_type": "code",
      "source": [
        "#KNN StandardScaler\n",
        "from sklearn.neighbors import KNeighborsClassifier\n",
        "knn=KNeighborsClassifier(n_neighbors=7)\n",
        "knn.fit(X_train_norm,Y_train)\n",
        "prediction=knn.predict(X_test_norm)\n",
        "\n",
        "from sklearn.metrics import accuracy_score\n",
        "accuracy=accuracy_score(Y_test,prediction)\n",
        "print(\"Accuracy is\",accuracy*100,\"%\")\n",
        "\n",
        "target_names=['Game Boy','Game Boy Color']\n",
        "print(classification_report(Y_test,prediction.reshape(-1,1),target_names=target_names))\n",
        "cm=confusion_matrix(Y_test,prediction.reshape(-1,1),normalize='true')\n",
        "disp=ConfusionMatrixDisplay(confusion_matrix=cm,display_labels=target_names)\n",
        "fig,ax=plt.subplots(figsize=(8,6))\n",
        "disp.plot(ax=ax,cmap='Blues')"
      ],
      "metadata": {
        "colab": {
          "base_uri": "https://localhost:8080/",
          "height": 583
        },
        "id": "sW1X3OnfLEu9",
        "outputId": "574a99b8-89de-47e0-cb2e-9a5e25a21310"
      },
      "execution_count": null,
      "outputs": [
        {
          "output_type": "stream",
          "name": "stdout",
          "text": [
            "Accuracy is 47.05882352941176 %\n",
            "                precision    recall  f1-score   support\n",
            "\n",
            "      Game Boy       0.53      0.80      0.64        10\n",
            "Game Boy Color       0.00      0.00      0.00         7\n",
            "\n",
            "      accuracy                           0.47        17\n",
            "     macro avg       0.27      0.40      0.32        17\n",
            "  weighted avg       0.31      0.47      0.38        17\n",
            "\n"
          ]
        },
        {
          "output_type": "execute_result",
          "data": {
            "text/plain": [
              "<sklearn.metrics._plot.confusion_matrix.ConfusionMatrixDisplay at 0x7f172be43a30>"
            ]
          },
          "metadata": {},
          "execution_count": 26
        },
        {
          "output_type": "display_data",
          "data": {
            "text/plain": [
              "<Figure size 576x432 with 2 Axes>"
            ],
            "image/png": "[encoded data removed]"
          },
          "metadata": {
            "needs_background": "light"
          }
        }
      ]
    },
    {
      "cell_type": "markdown",
      "source": [
        "#Naive Bayes"
      ],
      "metadata": {
        "id": "rP_GzRvpNUyd"
      }
    },
    {
      "cell_type": "code",
      "source": [
        "#Naive Bayes Minmax\n",
        "from sklearn.naive_bayes import GaussianNB\n",
        "nb=GaussianNB()\n",
        "nb.fit(X_train_min,Y_train)\n",
        "prediction=nb.predict(X_test_min)\n",
        "\n",
        "from sklearn.metrics import accuracy_score\n",
        "accuracy=accuracy_score(Y_test,prediction)\n",
        "print(\"Accuracy is\",accuracy*100,\"%\")\n",
        "\n",
        "target_names=['Game Boy','Game Boy Color']\n",
        "print(classification_report(Y_test,prediction.reshape(-1,1),target_names=target_names))\n",
        "cm=confusion_matrix(Y_test,prediction.reshape(-1,1),normalize='true')\n",
        "disp=ConfusionMatrixDisplay(confusion_matrix=cm,display_labels=target_names)\n",
        "fig,ax=plt.subplots(figsize=(8,6))\n",
        "disp.plot(ax=ax,cmap='Blues')"
      ],
      "metadata": {
        "colab": {
          "base_uri": "https://localhost:8080/",
          "height": 707
        },
        "id": "OvhfT9uVsA4l",
        "outputId": "e24fa069-a04d-49d3-aedf-2e11096e97ea"
      },
      "execution_count": null,
      "outputs": [
        {
          "output_type": "stream",
          "name": "stdout",
          "text": [
            "Accuracy is 58.82352941176471 %\n",
            "                precision    recall  f1-score   support\n",
            "\n",
            "      Game Boy       0.59      1.00      0.74        10\n",
            "Game Boy Color       0.00      0.00      0.00         7\n",
            "\n",
            "      accuracy                           0.59        17\n",
            "     macro avg       0.29      0.50      0.37        17\n",
            "  weighted avg       0.35      0.59      0.44        17\n",
            "\n"
          ]
        },
        {
          "output_type": "stream",
          "name": "stderr",
          "text": [
            "/usr/local/lib/python3.8/dist-packages/sklearn/metrics/_classification.py:1318: UndefinedMetricWarning: Precision and F-score are ill-defined and being set to 0.0 in labels with no predicted samples. Use `zero_division` parameter to control this behavior.\n",
            "  _warn_prf(average, modifier, msg_start, len(result))\n",
            "/usr/local/lib/python3.8/dist-packages/sklearn/metrics/_classification.py:1318: UndefinedMetricWarning: Precision and F-score are ill-defined and being set to 0.0 in labels with no predicted samples. Use `zero_division` parameter to control this behavior.\n",
            "  _warn_prf(average, modifier, msg_start, len(result))\n",
            "/usr/local/lib/python3.8/dist-packages/sklearn/metrics/_classification.py:1318: UndefinedMetricWarning: Precision and F-score are ill-defined and being set to 0.0 in labels with no predicted samples. Use `zero_division` parameter to control this behavior.\n",
            "  _warn_prf(average, modifier, msg_start, len(result))\n"
          ]
        },
        {
          "output_type": "execute_result",
          "data": {
            "text/plain": [
              "<sklearn.metrics._plot.confusion_matrix.ConfusionMatrixDisplay at 0x7f172611d310>"
            ]
          },
          "metadata": {},
          "execution_count": 30
        },
        {
          "output_type": "display_data",
          "data": {
            "text/plain": [
              "<Figure size 576x432 with 2 Axes>"
            ],
            "image/png": "[encoded data removed]"
          },
          "metadata": {
            "needs_background": "light"
          }
        }
      ]
    },
    {
      "cell_type": "code",
      "source": [
        "#Naive Bayes StandardScaler\n",
        "from sklearn.naive_bayes import GaussianNB\n",
        "nb=GaussianNB()\n",
        "nb.fit(X_train_norm,Y_train)\n",
        "prediction=nb.predict(X_test_norm)\n",
        "\n",
        "from sklearn.metrics import accuracy_score\n",
        "accuracy=accuracy_score(Y_test,prediction)\n",
        "print(\"Accuracy is\",accuracy*100,\"%\")\n",
        "\n",
        "target_names=['Game Boy','Game Boy Color']\n",
        "print(classification_report(Y_test,prediction.reshape(-1,1),target_names=target_names))\n",
        "cm=confusion_matrix(Y_test,prediction.reshape(-1,1),normalize='true')\n",
        "disp=ConfusionMatrixDisplay(confusion_matrix=cm,display_labels=target_names)\n",
        "fig,ax=plt.subplots(figsize=(8,6))\n",
        "disp.plot(ax=ax,cmap='Blues')"
      ],
      "metadata": {
        "colab": {
          "base_uri": "https://localhost:8080/",
          "height": 707
        },
        "id": "5sAt6W6usvkd",
        "outputId": "8374e4b1-d173-4cc2-81e9-26a5f4537797"
      },
      "execution_count": null,
      "outputs": [
        {
          "output_type": "stream",
          "name": "stdout",
          "text": [
            "Accuracy is 58.82352941176471 %\n",
            "                precision    recall  f1-score   support\n",
            "\n",
            "      Game Boy       0.59      1.00      0.74        10\n",
            "Game Boy Color       0.00      0.00      0.00         7\n",
            "\n",
            "      accuracy                           0.59        17\n",
            "     macro avg       0.29      0.50      0.37        17\n",
            "  weighted avg       0.35      0.59      0.44        17\n",
            "\n"
          ]
        },
        {
          "output_type": "stream",
          "name": "stderr",
          "text": [
            "/usr/local/lib/python3.8/dist-packages/sklearn/metrics/_classification.py:1318: UndefinedMetricWarning: Precision and F-score are ill-defined and being set to 0.0 in labels with no predicted samples. Use `zero_division` parameter to control this behavior.\n",
            "  _warn_prf(average, modifier, msg_start, len(result))\n",
            "/usr/local/lib/python3.8/dist-packages/sklearn/metrics/_classification.py:1318: UndefinedMetricWarning: Precision and F-score are ill-defined and being set to 0.0 in labels with no predicted samples. Use `zero_division` parameter to control this behavior.\n",
            "  _warn_prf(average, modifier, msg_start, len(result))\n",
            "/usr/local/lib/python3.8/dist-packages/sklearn/metrics/_classification.py:1318: UndefinedMetricWarning: Precision and F-score are ill-defined and being set to 0.0 in labels with no predicted samples. Use `zero_division` parameter to control this behavior.\n",
            "  _warn_prf(average, modifier, msg_start, len(result))\n"
          ]
        },
        {
          "output_type": "execute_result",
          "data": {
            "text/plain": [
              "<sklearn.metrics._plot.confusion_matrix.ConfusionMatrixDisplay at 0x7f172867da60>"
            ]
          },
          "metadata": {},
          "execution_count": 31
        },
        {
          "output_type": "display_data",
          "data": {
            "text/plain": [
              "<Figure size 576x432 with 2 Axes>"
            ],
            "image/png": "[encoded data removed]"
          },
          "metadata": {
            "needs_background": "light"
          }
        }
      ]
    },
    {
      "cell_type": "markdown",
      "source": [
        "#Support Vector Machine"
      ],
      "metadata": {
        "id": "hUenjnIkNYRM"
      }
    },
    {
      "cell_type": "code",
      "source": [
        "#SVM Minmax\n",
        "from sklearn.svm import SVC\n",
        "ss=SVC()\n",
        "ss.fit(X_train_min,Y_train.values.ravel())\n",
        "prediction=ss.predict(X_test_min)\n",
        "\n",
        "from sklearn.metrics import accuracy_score\n",
        "accuracy=accuracy_score(Y_test,prediction)\n",
        "print(\"Accuracy is\",accuracy*100,\"%\")\n",
        "\n",
        "target_names=['Game Boy','Game Boy Color']\n",
        "print(classification_report(Y_test,prediction.reshape(-1,1),target_names=target_names))\n",
        "cm=confusion_matrix(Y_test,prediction.reshape(-1,1),normalize='true')\n",
        "disp=ConfusionMatrixDisplay(confusion_matrix=cm,display_labels=target_names)\n",
        "fig,ax=plt.subplots(figsize=(8,6))\n",
        "disp.plot(ax=ax,cmap='Blues')"
      ],
      "metadata": {
        "colab": {
          "base_uri": "https://localhost:8080/",
          "height": 707
        },
        "id": "ZgXaafZZs9eo",
        "outputId": "fd0b6169-22a8-4476-c2d3-252e52cc0ff0"
      },
      "execution_count": null,
      "outputs": [
        {
          "output_type": "stream",
          "name": "stdout",
          "text": [
            "Accuracy is 58.82352941176471 %\n",
            "                precision    recall  f1-score   support\n",
            "\n",
            "      Game Boy       0.59      1.00      0.74        10\n",
            "Game Boy Color       0.00      0.00      0.00         7\n",
            "\n",
            "      accuracy                           0.59        17\n",
            "     macro avg       0.29      0.50      0.37        17\n",
            "  weighted avg       0.35      0.59      0.44        17\n",
            "\n"
          ]
        },
        {
          "output_type": "stream",
          "name": "stderr",
          "text": [
            "/usr/local/lib/python3.8/dist-packages/sklearn/metrics/_classification.py:1318: UndefinedMetricWarning: Precision and F-score are ill-defined and being set to 0.0 in labels with no predicted samples. Use `zero_division` parameter to control this behavior.\n",
            "  _warn_prf(average, modifier, msg_start, len(result))\n",
            "/usr/local/lib/python3.8/dist-packages/sklearn/metrics/_classification.py:1318: UndefinedMetricWarning: Precision and F-score are ill-defined and being set to 0.0 in labels with no predicted samples. Use `zero_division` parameter to control this behavior.\n",
            "  _warn_prf(average, modifier, msg_start, len(result))\n",
            "/usr/local/lib/python3.8/dist-packages/sklearn/metrics/_classification.py:1318: UndefinedMetricWarning: Precision and F-score are ill-defined and being set to 0.0 in labels with no predicted samples. Use `zero_division` parameter to control this behavior.\n",
            "  _warn_prf(average, modifier, msg_start, len(result))\n"
          ]
        },
        {
          "output_type": "execute_result",
          "data": {
            "text/plain": [
              "<sklearn.metrics._plot.confusion_matrix.ConfusionMatrixDisplay at 0x7f17292d7eb0>"
            ]
          },
          "metadata": {},
          "execution_count": 32
        },
        {
          "output_type": "display_data",
          "data": {
            "text/plain": [
              "<Figure size 576x432 with 2 Axes>"
            ],
            "image/png": "[encoded data removed]"
          },
          "metadata": {
            "needs_background": "light"
          }
        }
      ]
    },
    {
      "cell_type": "code",
      "source": [
        "#SVM StandardScaler\n",
        "from sklearn.svm import SVC\n",
        "ss=SVC()\n",
        "ss.fit(X_train_norm,Y_train.values.ravel())\n",
        "prediction=ss.predict(X_test_norm)\n",
        "\n",
        "from sklearn.metrics import accuracy_score\n",
        "accuracy=accuracy_score(Y_test,prediction)\n",
        "print(\"Accuracy is\",accuracy*100,\"%\")\n",
        "\n",
        "target_names=['Game Boy','Game Boy Color']\n",
        "print(classification_report(Y_test,prediction.reshape(-1,1),target_names=target_names))\n",
        "cm=confusion_matrix(Y_test,prediction.reshape(-1,1),normalize='true')\n",
        "disp=ConfusionMatrixDisplay(confusion_matrix=cm,display_labels=target_names)\n",
        "fig,ax=plt.subplots(figsize=(8,6))\n",
        "disp.plot(ax=ax,cmap='Blues')"
      ],
      "metadata": {
        "colab": {
          "base_uri": "https://localhost:8080/",
          "height": 707
        },
        "id": "Y3vz1Sg6tNRU",
        "outputId": "29a36115-4880-4547-c341-acd6c3f26684"
      },
      "execution_count": null,
      "outputs": [
        {
          "output_type": "stream",
          "name": "stdout",
          "text": [
            "Accuracy is 58.82352941176471 %\n",
            "                precision    recall  f1-score   support\n",
            "\n",
            "      Game Boy       0.59      1.00      0.74        10\n",
            "Game Boy Color       0.00      0.00      0.00         7\n",
            "\n",
            "      accuracy                           0.59        17\n",
            "     macro avg       0.29      0.50      0.37        17\n",
            "  weighted avg       0.35      0.59      0.44        17\n",
            "\n"
          ]
        },
        {
          "output_type": "stream",
          "name": "stderr",
          "text": [
            "/usr/local/lib/python3.8/dist-packages/sklearn/metrics/_classification.py:1318: UndefinedMetricWarning: Precision and F-score are ill-defined and being set to 0.0 in labels with no predicted samples. Use `zero_division` parameter to control this behavior.\n",
            "  _warn_prf(average, modifier, msg_start, len(result))\n",
            "/usr/local/lib/python3.8/dist-packages/sklearn/metrics/_classification.py:1318: UndefinedMetricWarning: Precision and F-score are ill-defined and being set to 0.0 in labels with no predicted samples. Use `zero_division` parameter to control this behavior.\n",
            "  _warn_prf(average, modifier, msg_start, len(result))\n",
            "/usr/local/lib/python3.8/dist-packages/sklearn/metrics/_classification.py:1318: UndefinedMetricWarning: Precision and F-score are ill-defined and being set to 0.0 in labels with no predicted samples. Use `zero_division` parameter to control this behavior.\n",
            "  _warn_prf(average, modifier, msg_start, len(result))\n"
          ]
        },
        {
          "output_type": "execute_result",
          "data": {
            "text/plain": [
              "<sklearn.metrics._plot.confusion_matrix.ConfusionMatrixDisplay at 0x7f1725d032e0>"
            ]
          },
          "metadata": {},
          "execution_count": 33
        },
        {
          "output_type": "display_data",
          "data": {
            "text/plain": [
              "<Figure size 576x432 with 2 Axes>"
            ],
            "image/png": "[encoded data removed]"
          },
          "metadata": {
            "needs_background": "light"
          }
        }
      ]
    },
    {
      "cell_type": "markdown",
      "source": [
        "#Decision Tree"
      ],
      "metadata": {
        "id": "1XXlzvp_NcDD"
      }
    },
    {
      "cell_type": "code",
      "source": [
        "#Decision Tree Minmax\n",
        "from sklearn.tree import DecisionTreeClassifier\n",
        "ss=DecisionTreeClassifier(criterion='gini',max_depth=5,random_state=0)\n",
        "ss.fit(X_train_min,Y_train)\n",
        "prediction=ss.predict(X_test_min)\n",
        "\n",
        "from sklearn.metrics import accuracy_score\n",
        "accuracy=accuracy_score(Y_test,prediction)\n",
        "print(\"Accuracy is\",accuracy*100,\"%\")\n",
        "\n",
        "target_names=['Game Boy','Game Boy Color']\n",
        "print(classification_report(Y_test,prediction.reshape(-1,1),target_names=target_names))\n",
        "cm=confusion_matrix(Y_test,prediction.reshape(-1,1),normalize='true')\n",
        "disp=ConfusionMatrixDisplay(confusion_matrix=cm,display_labels=target_names)\n",
        "fig,ax=plt.subplots(figsize=(8,6))\n",
        "disp.plot(ax=ax,cmap='Blues')"
      ],
      "metadata": {
        "colab": {
          "base_uri": "https://localhost:8080/",
          "height": 583
        },
        "id": "VHnmHL0At-oh",
        "outputId": "d7c7b854-226a-4a4b-82f9-b568d80122b4"
      },
      "execution_count": null,
      "outputs": [
        {
          "output_type": "stream",
          "name": "stdout",
          "text": [
            "Accuracy is 70.58823529411765 %\n",
            "                precision    recall  f1-score   support\n",
            "\n",
            "      Game Boy       0.73      0.80      0.76        10\n",
            "Game Boy Color       0.67      0.57      0.62         7\n",
            "\n",
            "      accuracy                           0.71        17\n",
            "     macro avg       0.70      0.69      0.69        17\n",
            "  weighted avg       0.70      0.71      0.70        17\n",
            "\n"
          ]
        },
        {
          "output_type": "execute_result",
          "data": {
            "text/plain": [
              "<sklearn.metrics._plot.confusion_matrix.ConfusionMatrixDisplay at 0x7f17257e6070>"
            ]
          },
          "metadata": {},
          "execution_count": 42
        },
        {
          "output_type": "display_data",
          "data": {
            "text/plain": [
              "<Figure size 576x432 with 2 Axes>"
            ],
            "image/png": "[encoded data removed]"
          },
          "metadata": {
            "needs_background": "light"
          }
        }
      ]
    },
    {
      "cell_type": "code",
      "source": [
        "#Decision Tree Standardscaler\n",
        "from sklearn.tree import DecisionTreeClassifier\n",
        "ss=DecisionTreeClassifier(criterion='gini',max_depth=6,random_state=0)\n",
        "ss.fit(X_train_norm,Y_train)\n",
        "prediction=ss.predict(X_test_norm)\n",
        "\n",
        "from sklearn.metrics import accuracy_score\n",
        "accuracy=accuracy_score(Y_test,prediction)\n",
        "print(\"Accuracy is\",accuracy*100,\"%\")\n",
        "\n",
        "target_names=['Game Boy','Game Boy Color']\n",
        "print(classification_report(Y_test,prediction.reshape(-1,1),target_names=target_names))\n",
        "cm=confusion_matrix(Y_test,prediction.reshape(-1,1),normalize='true')\n",
        "disp=ConfusionMatrixDisplay(confusion_matrix=cm,display_labels=target_names)\n",
        "fig,ax=plt.subplots(figsize=(8,6))\n",
        "disp.plot(ax=ax,cmap='Blues')"
      ],
      "metadata": {
        "colab": {
          "base_uri": "https://localhost:8080/",
          "height": 583
        },
        "id": "6Rpyr2_UvIKq",
        "outputId": "c485e846-947e-402e-864e-dc567dc4e360"
      },
      "execution_count": null,
      "outputs": [
        {
          "output_type": "stream",
          "name": "stdout",
          "text": [
            "Accuracy is 70.58823529411765 %\n",
            "                precision    recall  f1-score   support\n",
            "\n",
            "      Game Boy       0.73      0.80      0.76        10\n",
            "Game Boy Color       0.67      0.57      0.62         7\n",
            "\n",
            "      accuracy                           0.71        17\n",
            "     macro avg       0.70      0.69      0.69        17\n",
            "  weighted avg       0.70      0.71      0.70        17\n",
            "\n"
          ]
        },
        {
          "output_type": "execute_result",
          "data": {
            "text/plain": [
              "<sklearn.metrics._plot.confusion_matrix.ConfusionMatrixDisplay at 0x7f1725cfadf0>"
            ]
          },
          "metadata": {},
          "execution_count": 46
        },
        {
          "output_type": "display_data",
          "data": {
            "text/plain": [
              "<Figure size 576x432 with 2 Axes>"
            ],
            "image/png": "[encoded data removed]"
          },
          "metadata": {
            "needs_background": "light"
          }
        }
      ]
    },
    {
      "cell_type": "markdown",
      "source": [
        "#Random Forest"
      ],
      "metadata": {
        "id": "J4E2j3yoNf9M"
      }
    },
    {
      "cell_type": "code",
      "source": [
        "#Random Forest Minmax\n",
        "from sklearn.ensemble import RandomForestClassifier\n",
        "rf=RandomForestClassifier(n_estimators=50)\n",
        "rf.fit(X_train_min,Y_train)\n",
        "prediction=rf.predict(X_test_min)\n",
        "\n",
        "from sklearn.metrics import accuracy_score\n",
        "accuracy=accuracy_score(Y_test,prediction)\n",
        "print(\"Accuracy is\",accuracy*100,\"%\")\n",
        "\n",
        "target_names=['Game Boy','Game Boy Color']\n",
        "print(classification_report(Y_test,prediction.reshape(-1,1),target_names=target_names))\n",
        "cm=confusion_matrix(Y_test,prediction.reshape(-1,1),normalize='true')\n",
        "disp=ConfusionMatrixDisplay(confusion_matrix=cm,display_labels=target_names)\n",
        "fig,ax=plt.subplots(figsize=(8,6))\n",
        "disp.plot(ax=ax,cmap='Blues')\n"
      ],
      "metadata": {
        "colab": {
          "base_uri": "https://localhost:8080/",
          "height": 583
        },
        "id": "PnleYMnDvcwz",
        "outputId": "abe67bd9-c23e-4d47-b547-8dafc49779d9"
      },
      "execution_count": null,
      "outputs": [
        {
          "output_type": "stream",
          "name": "stdout",
          "text": [
            "Accuracy is 64.70588235294117 %\n",
            "                precision    recall  f1-score   support\n",
            "\n",
            "      Game Boy       0.64      0.90      0.75        10\n",
            "Game Boy Color       0.67      0.29      0.40         7\n",
            "\n",
            "      accuracy                           0.65        17\n",
            "     macro avg       0.65      0.59      0.57        17\n",
            "  weighted avg       0.65      0.65      0.61        17\n",
            "\n"
          ]
        },
        {
          "output_type": "execute_result",
          "data": {
            "text/plain": [
              "<sklearn.metrics._plot.confusion_matrix.ConfusionMatrixDisplay at 0x7f1729220f10>"
            ]
          },
          "metadata": {},
          "execution_count": 49
        },
        {
          "output_type": "display_data",
          "data": {
            "text/plain": [
              "<Figure size 576x432 with 2 Axes>"
            ],
            "image/png": "[encoded data removed]"
          },
          "metadata": {
            "needs_background": "light"
          }
        }
      ]
    },
    {
      "cell_type": "code",
      "source": [],
      "metadata": {
        "id": "v5lVDa8pyCOM"
      },
      "execution_count": null,
      "outputs": []
    }
  ]
}