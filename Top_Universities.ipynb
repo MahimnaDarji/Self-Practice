{
  "nbformat": 4,
  "nbformat_minor": 0,
  "metadata": {
    "colab": {
      "provenance": [],
      "authorship_tag": "ABX9TyPrBaSkqhMMxkbnU7Ky/xld",
      "include_colab_link": true
    },
    "kernelspec": {
      "name": "python3",
      "display_name": "Python 3"
    },
    "language_info": {
      "name": "python"
    }
  },
  "cells": [
    {
      "cell_type": "markdown",
      "metadata": {
        "id": "view-in-github",
        "colab_type": "text"
      },
      "source": [
        "<a href=\"https://colab.research.google.com/github/MahimnaDarji/Self-Practice/blob/main/Top_Universities.ipynb\" target=\"_parent\"><img src=\"https://colab.research.google.com/assets/colab-badge.svg\" alt=\"Open In Colab\"/></a>"
      ]
    },
    {
      "cell_type": "code",
      "source": [
        "from google.colab import drive\n",
        "drive.mount('/content/drive')"
      ],
      "metadata": {
        "colab": {
          "base_uri": "https://localhost:8080/"
        },
        "id": "XtJYZ3F0Gvq-",
        "outputId": "90ca253e-aa05-409f-8487-eced29c907c2"
      },
      "execution_count": 88,
      "outputs": [
        {
          "output_type": "stream",
          "name": "stdout",
          "text": [
            "Drive already mounted at /content/drive; to attempt to forcibly remount, call drive.mount(\"/content/drive\", force_remount=True).\n"
          ]
        }
      ]
    },
    {
      "cell_type": "code",
      "source": [
        "import numpy as np\n",
        "import pandas as pd\n",
        "import matplotlib.pyplot as plt\n",
        "from sklearn.metrics import classification_report,confusion_matrix,ConfusionMatrixDisplay"
      ],
      "metadata": {
        "id": "5LFreqZ2MHLP"
      },
      "execution_count": 89,
      "outputs": []
    },
    {
      "cell_type": "code",
      "source": [
        "data=pd.read_csv('/content/drive/MyDrive/Datasets/top_colleges_2022.csv')"
      ],
      "metadata": {
        "id": "nLXCuUNMqyd7"
      },
      "execution_count": 90,
      "outputs": []
    },
    {
      "cell_type": "code",
      "source": [
        "data.head(5)"
      ],
      "metadata": {
        "colab": {
          "base_uri": "https://localhost:8080/",
          "height": 629
        },
        "id": "zdM1ACe5q4KM",
        "outputId": "26958a39-73f9-4b92-ede1-793636f0020e"
      },
      "execution_count": 91,
      "outputs": [
        {
          "output_type": "execute_result",
          "data": {
            "text/plain": [
              "                                         description  rank  \\\n",
              "0  A leading global research university, MIT attr...     1   \n",
              "1  Stanford University sits just outside of Palo ...     2   \n",
              "2  One of the top public universities in the coun...     2   \n",
              "3  Princeton is a leading private research univer...     4   \n",
              "4  Located in upper Manhattan, Columbia Universit...     5   \n",
              "\n",
              "                        organizationName state  studentPopulation  \\\n",
              "0  Massachusetts Institute of Technology    MA              12195   \n",
              "1                    Stanford University    CA              20961   \n",
              "2     University of California, Berkeley    CA              45878   \n",
              "3                   Princeton University    NJ               8532   \n",
              "4                    Columbia University    NY              33882   \n",
              "\n",
              "  campusSetting  medianBaseSalary   longitude   latitude  \\\n",
              "0         Urban          173700.0  -71.093539  42.359006   \n",
              "1      Suburban          173500.0 -122.168924  37.431370   \n",
              "2         Urban          154500.0 -122.258393  37.869236   \n",
              "3         Urban          167600.0  -74.659119  40.349855   \n",
              "4         Urban          148800.0  -73.961288  40.806515   \n",
              "\n",
              "                    website  ... yearFounded stateCode  \\\n",
              "0        http://web.mit.edu  ...      1861.0        MA   \n",
              "1   http://www.stanford.edu  ...      1891.0        CA   \n",
              "2   http://www.berkeley.edu  ...      1868.0        CA   \n",
              "3  http://www.princeton.edu  ...      1746.0        NJ   \n",
              "4   http://www.columbia.edu  ...      1754.0        NY   \n",
              "\n",
              "              collegeType                             carnegieClassification  \\\n",
              "0  Private not-for-profit  Doctoral Universities: Very High Research Acti...   \n",
              "1  Private not-for-profit  Doctoral Universities: Very High Research Acti...   \n",
              "2                  Public  Doctoral Universities: Very High Research Acti...   \n",
              "3  Private not-for-profit  Doctoral Universities: Very High Research Acti...   \n",
              "4  Private not-for-profit  Doctoral Universities: Very High Research Acti...   \n",
              "\n",
              "  studentFacultyRatio  totalStudentPop undergradPop totalGrantAid  \\\n",
              "0                   3            12195         4582    35299332.0   \n",
              "1                   4            20961         8464    51328461.0   \n",
              "2                  19            45878        33208    64495611.0   \n",
              "3                   4             8532         5516    44871096.0   \n",
              "4                   6            33882         8689    44615007.0   \n",
              "\n",
              "  percentOfStudentsFinAid  percentOfStudentsGrant  \n",
              "0                    75.0                    60.0  \n",
              "1                    70.0                    55.0  \n",
              "2                    63.0                    53.0  \n",
              "3                    62.0                    61.0  \n",
              "4                    58.0                    54.0  \n",
              "\n",
              "[5 rows x 25 columns]"
            ],
            "text/html": [
              "\n",
              "  <div id=\"df-ec6526b2-7114-4d6d-b5c8-0c2a91697eea\">\n",
              "    <div class=\"colab-df-container\">\n",
              "      <div>\n",
              "<style scoped>\n",
              "    .dataframe tbody tr th:only-of-type {\n",
              "        vertical-align: middle;\n",
              "    }\n",
              "\n",
              "    .dataframe tbody tr th {\n",
              "        vertical-align: top;\n",
              "    }\n",
              "\n",
              "    .dataframe thead th {\n",
              "        text-align: right;\n",
              "    }\n",
              "</style>\n",
              "<table border=\"1\" class=\"dataframe\">\n",
              "  <thead>\n",
              "    <tr style=\"text-align: right;\">\n",
              "      <th></th>\n",
              "      <th>description</th>\n",
              "      <th>rank</th>\n",
              "      <th>organizationName</th>\n",
              "      <th>state</th>\n",
              "      <th>studentPopulation</th>\n",
              "      <th>campusSetting</th>\n",
              "      <th>medianBaseSalary</th>\n",
              "      <th>longitude</th>\n",
              "      <th>latitude</th>\n",
              "      <th>website</th>\n",
              "      <th>...</th>\n",
              "      <th>yearFounded</th>\n",
              "      <th>stateCode</th>\n",
              "      <th>collegeType</th>\n",
              "      <th>carnegieClassification</th>\n",
              "      <th>studentFacultyRatio</th>\n",
              "      <th>totalStudentPop</th>\n",
              "      <th>undergradPop</th>\n",
              "      <th>totalGrantAid</th>\n",
              "      <th>percentOfStudentsFinAid</th>\n",
              "      <th>percentOfStudentsGrant</th>\n",
              "    </tr>\n",
              "  </thead>\n",
              "  <tbody>\n",
              "    <tr>\n",
              "      <th>0</th>\n",
              "      <td>A leading global research university, MIT attr...</td>\n",
              "      <td>1</td>\n",
              "      <td>Massachusetts Institute of Technology</td>\n",
              "      <td>MA</td>\n",
              "      <td>12195</td>\n",
              "      <td>Urban</td>\n",
              "      <td>173700.0</td>\n",
              "      <td>-71.093539</td>\n",
              "      <td>42.359006</td>\n",
              "      <td>http://web.mit.edu</td>\n",
              "      <td>...</td>\n",
              "      <td>1861.0</td>\n",
              "      <td>MA</td>\n",
              "      <td>Private not-for-profit</td>\n",
              "      <td>Doctoral Universities: Very High Research Acti...</td>\n",
              "      <td>3</td>\n",
              "      <td>12195</td>\n",
              "      <td>4582</td>\n",
              "      <td>35299332.0</td>\n",
              "      <td>75.0</td>\n",
              "      <td>60.0</td>\n",
              "    </tr>\n",
              "    <tr>\n",
              "      <th>1</th>\n",
              "      <td>Stanford University sits just outside of Palo ...</td>\n",
              "      <td>2</td>\n",
              "      <td>Stanford University</td>\n",
              "      <td>CA</td>\n",
              "      <td>20961</td>\n",
              "      <td>Suburban</td>\n",
              "      <td>173500.0</td>\n",
              "      <td>-122.168924</td>\n",
              "      <td>37.431370</td>\n",
              "      <td>http://www.stanford.edu</td>\n",
              "      <td>...</td>\n",
              "      <td>1891.0</td>\n",
              "      <td>CA</td>\n",
              "      <td>Private not-for-profit</td>\n",
              "      <td>Doctoral Universities: Very High Research Acti...</td>\n",
              "      <td>4</td>\n",
              "      <td>20961</td>\n",
              "      <td>8464</td>\n",
              "      <td>51328461.0</td>\n",
              "      <td>70.0</td>\n",
              "      <td>55.0</td>\n",
              "    </tr>\n",
              "    <tr>\n",
              "      <th>2</th>\n",
              "      <td>One of the top public universities in the coun...</td>\n",
              "      <td>2</td>\n",
              "      <td>University of California, Berkeley</td>\n",
              "      <td>CA</td>\n",
              "      <td>45878</td>\n",
              "      <td>Urban</td>\n",
              "      <td>154500.0</td>\n",
              "      <td>-122.258393</td>\n",
              "      <td>37.869236</td>\n",
              "      <td>http://www.berkeley.edu</td>\n",
              "      <td>...</td>\n",
              "      <td>1868.0</td>\n",
              "      <td>CA</td>\n",
              "      <td>Public</td>\n",
              "      <td>Doctoral Universities: Very High Research Acti...</td>\n",
              "      <td>19</td>\n",
              "      <td>45878</td>\n",
              "      <td>33208</td>\n",
              "      <td>64495611.0</td>\n",
              "      <td>63.0</td>\n",
              "      <td>53.0</td>\n",
              "    </tr>\n",
              "    <tr>\n",
              "      <th>3</th>\n",
              "      <td>Princeton is a leading private research univer...</td>\n",
              "      <td>4</td>\n",
              "      <td>Princeton University</td>\n",
              "      <td>NJ</td>\n",
              "      <td>8532</td>\n",
              "      <td>Urban</td>\n",
              "      <td>167600.0</td>\n",
              "      <td>-74.659119</td>\n",
              "      <td>40.349855</td>\n",
              "      <td>http://www.princeton.edu</td>\n",
              "      <td>...</td>\n",
              "      <td>1746.0</td>\n",
              "      <td>NJ</td>\n",
              "      <td>Private not-for-profit</td>\n",
              "      <td>Doctoral Universities: Very High Research Acti...</td>\n",
              "      <td>4</td>\n",
              "      <td>8532</td>\n",
              "      <td>5516</td>\n",
              "      <td>44871096.0</td>\n",
              "      <td>62.0</td>\n",
              "      <td>61.0</td>\n",
              "    </tr>\n",
              "    <tr>\n",
              "      <th>4</th>\n",
              "      <td>Located in upper Manhattan, Columbia Universit...</td>\n",
              "      <td>5</td>\n",
              "      <td>Columbia University</td>\n",
              "      <td>NY</td>\n",
              "      <td>33882</td>\n",
              "      <td>Urban</td>\n",
              "      <td>148800.0</td>\n",
              "      <td>-73.961288</td>\n",
              "      <td>40.806515</td>\n",
              "      <td>http://www.columbia.edu</td>\n",
              "      <td>...</td>\n",
              "      <td>1754.0</td>\n",
              "      <td>NY</td>\n",
              "      <td>Private not-for-profit</td>\n",
              "      <td>Doctoral Universities: Very High Research Acti...</td>\n",
              "      <td>6</td>\n",
              "      <td>33882</td>\n",
              "      <td>8689</td>\n",
              "      <td>44615007.0</td>\n",
              "      <td>58.0</td>\n",
              "      <td>54.0</td>\n",
              "    </tr>\n",
              "  </tbody>\n",
              "</table>\n",
              "<p>5 rows × 25 columns</p>\n",
              "</div>\n",
              "      <button class=\"colab-df-convert\" onclick=\"convertToInteractive('df-ec6526b2-7114-4d6d-b5c8-0c2a91697eea')\"\n",
              "              title=\"Convert this dataframe to an interactive table.\"\n",
              "              style=\"display:none;\">\n",
              "        \n",
              "  <svg xmlns=\"http://www.w3.org/2000/svg\" height=\"24px\"viewBox=\"0 0 24 24\"\n",
              "       width=\"24px\">\n",
              "    <path d=\"M0 0h24v24H0V0z\" fill=\"none\"/>\n",
              "    <path d=\"M18.56 5.44l.94 2.06.94-2.06 2.06-.94-2.06-.94-.94-2.06-.94 2.06-2.06.94zm-11 1L8.5 8.5l.94-2.06 2.06-.94-2.06-.94L8.5 2.5l-.94 2.06-2.06.94zm10 10l.94 2.06.94-2.06 2.06-.94-2.06-.94-.94-2.06-.94 2.06-2.06.94z\"/><path d=\"M17.41 7.96l-1.37-1.37c-.4-.4-.92-.59-1.43-.59-.52 0-1.04.2-1.43.59L10.3 9.45l-7.72 7.72c-.78.78-.78 2.05 0 2.83L4 21.41c.39.39.9.59 1.41.59.51 0 1.02-.2 1.41-.59l7.78-7.78 2.81-2.81c.8-.78.8-2.07 0-2.86zM5.41 20L4 18.59l7.72-7.72 1.47 1.35L5.41 20z\"/>\n",
              "  </svg>\n",
              "      </button>\n",
              "      \n",
              "  <style>\n",
              "    .colab-df-container {\n",
              "      display:flex;\n",
              "      flex-wrap:wrap;\n",
              "      gap: 12px;\n",
              "    }\n",
              "\n",
              "    .colab-df-convert {\n",
              "      background-color: #E8F0FE;\n",
              "      border: none;\n",
              "      border-radius: 50%;\n",
              "      cursor: pointer;\n",
              "      display: none;\n",
              "      fill: #1967D2;\n",
              "      height: 32px;\n",
              "      padding: 0 0 0 0;\n",
              "      width: 32px;\n",
              "    }\n",
              "\n",
              "    .colab-df-convert:hover {\n",
              "      background-color: #E2EBFA;\n",
              "      box-shadow: 0px 1px 2px rgba(60, 64, 67, 0.3), 0px 1px 3px 1px rgba(60, 64, 67, 0.15);\n",
              "      fill: #174EA6;\n",
              "    }\n",
              "\n",
              "    [theme=dark] .colab-df-convert {\n",
              "      background-color: #3B4455;\n",
              "      fill: #D2E3FC;\n",
              "    }\n",
              "\n",
              "    [theme=dark] .colab-df-convert:hover {\n",
              "      background-color: #434B5C;\n",
              "      box-shadow: 0px 1px 3px 1px rgba(0, 0, 0, 0.15);\n",
              "      filter: drop-shadow(0px 1px 2px rgba(0, 0, 0, 0.3));\n",
              "      fill: #FFFFFF;\n",
              "    }\n",
              "  </style>\n",
              "\n",
              "      <script>\n",
              "        const buttonEl =\n",
              "          document.querySelector('#df-ec6526b2-7114-4d6d-b5c8-0c2a91697eea button.colab-df-convert');\n",
              "        buttonEl.style.display =\n",
              "          google.colab.kernel.accessAllowed ? 'block' : 'none';\n",
              "\n",
              "        async function convertToInteractive(key) {\n",
              "          const element = document.querySelector('#df-ec6526b2-7114-4d6d-b5c8-0c2a91697eea');\n",
              "          const dataTable =\n",
              "            await google.colab.kernel.invokeFunction('convertToInteractive',\n",
              "                                                     [key], {});\n",
              "          if (!dataTable) return;\n",
              "\n",
              "          const docLinkHtml = 'Like what you see? Visit the ' +\n",
              "            '<a target=\"_blank\" href=https://colab.research.google.com/notebooks/data_table.ipynb>data table notebook</a>'\n",
              "            + ' to learn more about interactive tables.';\n",
              "          element.innerHTML = '';\n",
              "          dataTable['output_type'] = 'display_data';\n",
              "          await google.colab.output.renderOutput(dataTable, element);\n",
              "          const docLink = document.createElement('div');\n",
              "          docLink.innerHTML = docLinkHtml;\n",
              "          element.appendChild(docLink);\n",
              "        }\n",
              "      </script>\n",
              "    </div>\n",
              "  </div>\n",
              "  "
            ]
          },
          "metadata": {},
          "execution_count": 91
        }
      ]
    },
    {
      "cell_type": "code",
      "source": [
        "data.tail(5)"
      ],
      "metadata": {
        "colab": {
          "base_uri": "https://localhost:8080/",
          "height": 594
        },
        "id": "um5qZNiDq7FI",
        "outputId": "e86bf55c-10d6-4550-95a9-4e5c1531426c"
      },
      "execution_count": 92,
      "outputs": [
        {
          "output_type": "execute_result",
          "data": {
            "text/plain": [
              "                                           description  rank  \\\n",
              "493  St. Joseph’s College is a private institution ...   494   \n",
              "494  A liberal arts college founded by the Moravian...   495   \n",
              "495  Lawrence Technological University in Southfiel...   496   \n",
              "496  Saint Martin’s University in Lacey, WA, one of...   497   \n",
              "497  The University of Memphis is a large public re...   498   \n",
              "\n",
              "                      organizationName state  studentPopulation campusSetting  \\\n",
              "493          St. Joseph's College (NY)    NY               5901         Urban   \n",
              "494                Moravian University    PA               2961         Urban   \n",
              "495  Lawrence Technological University    MI               3163         Urban   \n",
              "496          Saint Martin's University    WA               1980         Urban   \n",
              "497              University of Memphis    TN              25128         Urban   \n",
              "\n",
              "     medianBaseSalary  longitude   latitude                     website  ...  \\\n",
              "493          100900.0 -73.968304  40.690548        http://www.sjcny.edu  ...   \n",
              "494          109800.0 -75.381596  40.630303     http://www.moravian.edu  ...   \n",
              "495          119900.0 -83.278458  42.450606  http://https://www.ltu.edu  ...   \n",
              "496          102100.0        NaN        NaN                         NaN  ...   \n",
              "497           90700.0 -89.939618  35.118453       http://www.mephis.edu  ...   \n",
              "\n",
              "    yearFounded stateCode             collegeType  \\\n",
              "493      1916.0        NY  Private not-for-profit   \n",
              "494      1742.0        PA  Private not-for-profit   \n",
              "495         NaN        MI  Private not-for-profit   \n",
              "496         NaN        WA  Private not-for-profit   \n",
              "497      1912.0        TN                  Public   \n",
              "\n",
              "                                carnegieClassification studentFacultyRatio  \\\n",
              "493  Master's Colleges & Universities: Medium Programs                  12   \n",
              "494      Baccalaureate Colleges: Arts & Sciences Focus                  11   \n",
              "495  Master's Colleges & Universities: Larger Programs                  11   \n",
              "496  Master's Colleges & Universities: Medium Programs                  12   \n",
              "497      Doctoral Universities: High Research Activity                  16   \n",
              "\n",
              "     totalStudentPop undergradPop totalGrantAid percentOfStudentsFinAid  \\\n",
              "493             5901         4429    11919881.0                    99.0   \n",
              "494             2961         2268    12685943.0                   100.0   \n",
              "495             3163         2286     5639254.0                    97.0   \n",
              "496             1980         1644     9759540.0                    99.0   \n",
              "497            25128        20011    27575189.0                    98.0   \n",
              "\n",
              "     percentOfStudentsGrant  \n",
              "493                    99.0  \n",
              "494                   100.0  \n",
              "495                    96.0  \n",
              "496                    99.0  \n",
              "497                    97.0  \n",
              "\n",
              "[5 rows x 25 columns]"
            ],
            "text/html": [
              "\n",
              "  <div id=\"df-0b18c90c-5592-415b-b96a-46a4a153cfca\">\n",
              "    <div class=\"colab-df-container\">\n",
              "      <div>\n",
              "<style scoped>\n",
              "    .dataframe tbody tr th:only-of-type {\n",
              "        vertical-align: middle;\n",
              "    }\n",
              "\n",
              "    .dataframe tbody tr th {\n",
              "        vertical-align: top;\n",
              "    }\n",
              "\n",
              "    .dataframe thead th {\n",
              "        text-align: right;\n",
              "    }\n",
              "</style>\n",
              "<table border=\"1\" class=\"dataframe\">\n",
              "  <thead>\n",
              "    <tr style=\"text-align: right;\">\n",
              "      <th></th>\n",
              "      <th>description</th>\n",
              "      <th>rank</th>\n",
              "      <th>organizationName</th>\n",
              "      <th>state</th>\n",
              "      <th>studentPopulation</th>\n",
              "      <th>campusSetting</th>\n",
              "      <th>medianBaseSalary</th>\n",
              "      <th>longitude</th>\n",
              "      <th>latitude</th>\n",
              "      <th>website</th>\n",
              "      <th>...</th>\n",
              "      <th>yearFounded</th>\n",
              "      <th>stateCode</th>\n",
              "      <th>collegeType</th>\n",
              "      <th>carnegieClassification</th>\n",
              "      <th>studentFacultyRatio</th>\n",
              "      <th>totalStudentPop</th>\n",
              "      <th>undergradPop</th>\n",
              "      <th>totalGrantAid</th>\n",
              "      <th>percentOfStudentsFinAid</th>\n",
              "      <th>percentOfStudentsGrant</th>\n",
              "    </tr>\n",
              "  </thead>\n",
              "  <tbody>\n",
              "    <tr>\n",
              "      <th>493</th>\n",
              "      <td>St. Joseph’s College is a private institution ...</td>\n",
              "      <td>494</td>\n",
              "      <td>St. Joseph's College (NY)</td>\n",
              "      <td>NY</td>\n",
              "      <td>5901</td>\n",
              "      <td>Urban</td>\n",
              "      <td>100900.0</td>\n",
              "      <td>-73.968304</td>\n",
              "      <td>40.690548</td>\n",
              "      <td>http://www.sjcny.edu</td>\n",
              "      <td>...</td>\n",
              "      <td>1916.0</td>\n",
              "      <td>NY</td>\n",
              "      <td>Private not-for-profit</td>\n",
              "      <td>Master's Colleges &amp; Universities: Medium Programs</td>\n",
              "      <td>12</td>\n",
              "      <td>5901</td>\n",
              "      <td>4429</td>\n",
              "      <td>11919881.0</td>\n",
              "      <td>99.0</td>\n",
              "      <td>99.0</td>\n",
              "    </tr>\n",
              "    <tr>\n",
              "      <th>494</th>\n",
              "      <td>A liberal arts college founded by the Moravian...</td>\n",
              "      <td>495</td>\n",
              "      <td>Moravian University</td>\n",
              "      <td>PA</td>\n",
              "      <td>2961</td>\n",
              "      <td>Urban</td>\n",
              "      <td>109800.0</td>\n",
              "      <td>-75.381596</td>\n",
              "      <td>40.630303</td>\n",
              "      <td>http://www.moravian.edu</td>\n",
              "      <td>...</td>\n",
              "      <td>1742.0</td>\n",
              "      <td>PA</td>\n",
              "      <td>Private not-for-profit</td>\n",
              "      <td>Baccalaureate Colleges: Arts &amp; Sciences Focus</td>\n",
              "      <td>11</td>\n",
              "      <td>2961</td>\n",
              "      <td>2268</td>\n",
              "      <td>12685943.0</td>\n",
              "      <td>100.0</td>\n",
              "      <td>100.0</td>\n",
              "    </tr>\n",
              "    <tr>\n",
              "      <th>495</th>\n",
              "      <td>Lawrence Technological University in Southfiel...</td>\n",
              "      <td>496</td>\n",
              "      <td>Lawrence Technological University</td>\n",
              "      <td>MI</td>\n",
              "      <td>3163</td>\n",
              "      <td>Urban</td>\n",
              "      <td>119900.0</td>\n",
              "      <td>-83.278458</td>\n",
              "      <td>42.450606</td>\n",
              "      <td>http://https://www.ltu.edu</td>\n",
              "      <td>...</td>\n",
              "      <td>NaN</td>\n",
              "      <td>MI</td>\n",
              "      <td>Private not-for-profit</td>\n",
              "      <td>Master's Colleges &amp; Universities: Larger Programs</td>\n",
              "      <td>11</td>\n",
              "      <td>3163</td>\n",
              "      <td>2286</td>\n",
              "      <td>5639254.0</td>\n",
              "      <td>97.0</td>\n",
              "      <td>96.0</td>\n",
              "    </tr>\n",
              "    <tr>\n",
              "      <th>496</th>\n",
              "      <td>Saint Martin’s University in Lacey, WA, one of...</td>\n",
              "      <td>497</td>\n",
              "      <td>Saint Martin's University</td>\n",
              "      <td>WA</td>\n",
              "      <td>1980</td>\n",
              "      <td>Urban</td>\n",
              "      <td>102100.0</td>\n",
              "      <td>NaN</td>\n",
              "      <td>NaN</td>\n",
              "      <td>NaN</td>\n",
              "      <td>...</td>\n",
              "      <td>NaN</td>\n",
              "      <td>WA</td>\n",
              "      <td>Private not-for-profit</td>\n",
              "      <td>Master's Colleges &amp; Universities: Medium Programs</td>\n",
              "      <td>12</td>\n",
              "      <td>1980</td>\n",
              "      <td>1644</td>\n",
              "      <td>9759540.0</td>\n",
              "      <td>99.0</td>\n",
              "      <td>99.0</td>\n",
              "    </tr>\n",
              "    <tr>\n",
              "      <th>497</th>\n",
              "      <td>The University of Memphis is a large public re...</td>\n",
              "      <td>498</td>\n",
              "      <td>University of Memphis</td>\n",
              "      <td>TN</td>\n",
              "      <td>25128</td>\n",
              "      <td>Urban</td>\n",
              "      <td>90700.0</td>\n",
              "      <td>-89.939618</td>\n",
              "      <td>35.118453</td>\n",
              "      <td>http://www.mephis.edu</td>\n",
              "      <td>...</td>\n",
              "      <td>1912.0</td>\n",
              "      <td>TN</td>\n",
              "      <td>Public</td>\n",
              "      <td>Doctoral Universities: High Research Activity</td>\n",
              "      <td>16</td>\n",
              "      <td>25128</td>\n",
              "      <td>20011</td>\n",
              "      <td>27575189.0</td>\n",
              "      <td>98.0</td>\n",
              "      <td>97.0</td>\n",
              "    </tr>\n",
              "  </tbody>\n",
              "</table>\n",
              "<p>5 rows × 25 columns</p>\n",
              "</div>\n",
              "      <button class=\"colab-df-convert\" onclick=\"convertToInteractive('df-0b18c90c-5592-415b-b96a-46a4a153cfca')\"\n",
              "              title=\"Convert this dataframe to an interactive table.\"\n",
              "              style=\"display:none;\">\n",
              "        \n",
              "  <svg xmlns=\"http://www.w3.org/2000/svg\" height=\"24px\"viewBox=\"0 0 24 24\"\n",
              "       width=\"24px\">\n",
              "    <path d=\"M0 0h24v24H0V0z\" fill=\"none\"/>\n",
              "    <path d=\"M18.56 5.44l.94 2.06.94-2.06 2.06-.94-2.06-.94-.94-2.06-.94 2.06-2.06.94zm-11 1L8.5 8.5l.94-2.06 2.06-.94-2.06-.94L8.5 2.5l-.94 2.06-2.06.94zm10 10l.94 2.06.94-2.06 2.06-.94-2.06-.94-.94-2.06-.94 2.06-2.06.94z\"/><path d=\"M17.41 7.96l-1.37-1.37c-.4-.4-.92-.59-1.43-.59-.52 0-1.04.2-1.43.59L10.3 9.45l-7.72 7.72c-.78.78-.78 2.05 0 2.83L4 21.41c.39.39.9.59 1.41.59.51 0 1.02-.2 1.41-.59l7.78-7.78 2.81-2.81c.8-.78.8-2.07 0-2.86zM5.41 20L4 18.59l7.72-7.72 1.47 1.35L5.41 20z\"/>\n",
              "  </svg>\n",
              "      </button>\n",
              "      \n",
              "  <style>\n",
              "    .colab-df-container {\n",
              "      display:flex;\n",
              "      flex-wrap:wrap;\n",
              "      gap: 12px;\n",
              "    }\n",
              "\n",
              "    .colab-df-convert {\n",
              "      background-color: #E8F0FE;\n",
              "      border: none;\n",
              "      border-radius: 50%;\n",
              "      cursor: pointer;\n",
              "      display: none;\n",
              "      fill: #1967D2;\n",
              "      height: 32px;\n",
              "      padding: 0 0 0 0;\n",
              "      width: 32px;\n",
              "    }\n",
              "\n",
              "    .colab-df-convert:hover {\n",
              "      background-color: #E2EBFA;\n",
              "      box-shadow: 0px 1px 2px rgba(60, 64, 67, 0.3), 0px 1px 3px 1px rgba(60, 64, 67, 0.15);\n",
              "      fill: #174EA6;\n",
              "    }\n",
              "\n",
              "    [theme=dark] .colab-df-convert {\n",
              "      background-color: #3B4455;\n",
              "      fill: #D2E3FC;\n",
              "    }\n",
              "\n",
              "    [theme=dark] .colab-df-convert:hover {\n",
              "      background-color: #434B5C;\n",
              "      box-shadow: 0px 1px 3px 1px rgba(0, 0, 0, 0.15);\n",
              "      filter: drop-shadow(0px 1px 2px rgba(0, 0, 0, 0.3));\n",
              "      fill: #FFFFFF;\n",
              "    }\n",
              "  </style>\n",
              "\n",
              "      <script>\n",
              "        const buttonEl =\n",
              "          document.querySelector('#df-0b18c90c-5592-415b-b96a-46a4a153cfca button.colab-df-convert');\n",
              "        buttonEl.style.display =\n",
              "          google.colab.kernel.accessAllowed ? 'block' : 'none';\n",
              "\n",
              "        async function convertToInteractive(key) {\n",
              "          const element = document.querySelector('#df-0b18c90c-5592-415b-b96a-46a4a153cfca');\n",
              "          const dataTable =\n",
              "            await google.colab.kernel.invokeFunction('convertToInteractive',\n",
              "                                                     [key], {});\n",
              "          if (!dataTable) return;\n",
              "\n",
              "          const docLinkHtml = 'Like what you see? Visit the ' +\n",
              "            '<a target=\"_blank\" href=https://colab.research.google.com/notebooks/data_table.ipynb>data table notebook</a>'\n",
              "            + ' to learn more about interactive tables.';\n",
              "          element.innerHTML = '';\n",
              "          dataTable['output_type'] = 'display_data';\n",
              "          await google.colab.output.renderOutput(dataTable, element);\n",
              "          const docLink = document.createElement('div');\n",
              "          docLink.innerHTML = docLinkHtml;\n",
              "          element.appendChild(docLink);\n",
              "        }\n",
              "      </script>\n",
              "    </div>\n",
              "  </div>\n",
              "  "
            ]
          },
          "metadata": {},
          "execution_count": 92
        }
      ]
    },
    {
      "cell_type": "code",
      "source": [
        "data.describe"
      ],
      "metadata": {
        "colab": {
          "base_uri": "https://localhost:8080/"
        },
        "id": "d_UZNIQxq84O",
        "outputId": "4576dc18-e92e-4404-cc5d-806b321aa291"
      },
      "execution_count": 93,
      "outputs": [
        {
          "output_type": "execute_result",
          "data": {
            "text/plain": [
              "<bound method NDFrame.describe of                                            description  rank  \\\n",
              "0    A leading global research university, MIT attr...     1   \n",
              "1    Stanford University sits just outside of Palo ...     2   \n",
              "2    One of the top public universities in the coun...     2   \n",
              "3    Princeton is a leading private research univer...     4   \n",
              "4    Located in upper Manhattan, Columbia Universit...     5   \n",
              "..                                                 ...   ...   \n",
              "493  St. Joseph’s College is a private institution ...   494   \n",
              "494  A liberal arts college founded by the Moravian...   495   \n",
              "495  Lawrence Technological University in Southfiel...   496   \n",
              "496  Saint Martin’s University in Lacey, WA, one of...   497   \n",
              "497  The University of Memphis is a large public re...   498   \n",
              "\n",
              "                          organizationName state  studentPopulation  \\\n",
              "0    Massachusetts Institute of Technology    MA              12195   \n",
              "1                      Stanford University    CA              20961   \n",
              "2       University of California, Berkeley    CA              45878   \n",
              "3                     Princeton University    NJ               8532   \n",
              "4                      Columbia University    NY              33882   \n",
              "..                                     ...   ...                ...   \n",
              "493              St. Joseph's College (NY)    NY               5901   \n",
              "494                    Moravian University    PA               2961   \n",
              "495      Lawrence Technological University    MI               3163   \n",
              "496              Saint Martin's University    WA               1980   \n",
              "497                  University of Memphis    TN              25128   \n",
              "\n",
              "    campusSetting  medianBaseSalary   longitude   latitude  \\\n",
              "0           Urban          173700.0  -71.093539  42.359006   \n",
              "1        Suburban          173500.0 -122.168924  37.431370   \n",
              "2           Urban          154500.0 -122.258393  37.869236   \n",
              "3           Urban          167600.0  -74.659119  40.349855   \n",
              "4           Urban          148800.0  -73.961288  40.806515   \n",
              "..            ...               ...         ...        ...   \n",
              "493         Urban          100900.0  -73.968304  40.690548   \n",
              "494         Urban          109800.0  -75.381596  40.630303   \n",
              "495         Urban          119900.0  -83.278458  42.450606   \n",
              "496         Urban          102100.0         NaN        NaN   \n",
              "497         Urban           90700.0  -89.939618  35.118453   \n",
              "\n",
              "                        website  ... yearFounded stateCode  \\\n",
              "0            http://web.mit.edu  ...      1861.0        MA   \n",
              "1       http://www.stanford.edu  ...      1891.0        CA   \n",
              "2       http://www.berkeley.edu  ...      1868.0        CA   \n",
              "3      http://www.princeton.edu  ...      1746.0        NJ   \n",
              "4       http://www.columbia.edu  ...      1754.0        NY   \n",
              "..                          ...  ...         ...       ...   \n",
              "493        http://www.sjcny.edu  ...      1916.0        NY   \n",
              "494     http://www.moravian.edu  ...      1742.0        PA   \n",
              "495  http://https://www.ltu.edu  ...         NaN        MI   \n",
              "496                         NaN  ...         NaN        WA   \n",
              "497       http://www.mephis.edu  ...      1912.0        TN   \n",
              "\n",
              "                collegeType  \\\n",
              "0    Private not-for-profit   \n",
              "1    Private not-for-profit   \n",
              "2                    Public   \n",
              "3    Private not-for-profit   \n",
              "4    Private not-for-profit   \n",
              "..                      ...   \n",
              "493  Private not-for-profit   \n",
              "494  Private not-for-profit   \n",
              "495  Private not-for-profit   \n",
              "496  Private not-for-profit   \n",
              "497                  Public   \n",
              "\n",
              "                                carnegieClassification studentFacultyRatio  \\\n",
              "0    Doctoral Universities: Very High Research Acti...                   3   \n",
              "1    Doctoral Universities: Very High Research Acti...                   4   \n",
              "2    Doctoral Universities: Very High Research Acti...                  19   \n",
              "3    Doctoral Universities: Very High Research Acti...                   4   \n",
              "4    Doctoral Universities: Very High Research Acti...                   6   \n",
              "..                                                 ...                 ...   \n",
              "493  Master's Colleges & Universities: Medium Programs                  12   \n",
              "494      Baccalaureate Colleges: Arts & Sciences Focus                  11   \n",
              "495  Master's Colleges & Universities: Larger Programs                  11   \n",
              "496  Master's Colleges & Universities: Medium Programs                  12   \n",
              "497      Doctoral Universities: High Research Activity                  16   \n",
              "\n",
              "     totalStudentPop undergradPop totalGrantAid percentOfStudentsFinAid  \\\n",
              "0              12195         4582    35299332.0                    75.0   \n",
              "1              20961         8464    51328461.0                    70.0   \n",
              "2              45878        33208    64495611.0                    63.0   \n",
              "3               8532         5516    44871096.0                    62.0   \n",
              "4              33882         8689    44615007.0                    58.0   \n",
              "..               ...          ...           ...                     ...   \n",
              "493             5901         4429    11919881.0                    99.0   \n",
              "494             2961         2268    12685943.0                   100.0   \n",
              "495             3163         2286     5639254.0                    97.0   \n",
              "496             1980         1644     9759540.0                    99.0   \n",
              "497            25128        20011    27575189.0                    98.0   \n",
              "\n",
              "     percentOfStudentsGrant  \n",
              "0                      60.0  \n",
              "1                      55.0  \n",
              "2                      53.0  \n",
              "3                      61.0  \n",
              "4                      54.0  \n",
              "..                      ...  \n",
              "493                    99.0  \n",
              "494                   100.0  \n",
              "495                    96.0  \n",
              "496                    99.0  \n",
              "497                    97.0  \n",
              "\n",
              "[498 rows x 25 columns]>"
            ]
          },
          "metadata": {},
          "execution_count": 93
        }
      ]
    },
    {
      "cell_type": "code",
      "source": [
        "data.shape"
      ],
      "metadata": {
        "colab": {
          "base_uri": "https://localhost:8080/"
        },
        "id": "AYICESMgrBfw",
        "outputId": "0cfaf23b-26a7-4efe-c4f1-22eaa16076bf"
      },
      "execution_count": 94,
      "outputs": [
        {
          "output_type": "execute_result",
          "data": {
            "text/plain": [
              "(498, 25)"
            ]
          },
          "metadata": {},
          "execution_count": 94
        }
      ]
    },
    {
      "cell_type": "code",
      "source": [
        "data.size"
      ],
      "metadata": {
        "colab": {
          "base_uri": "https://localhost:8080/"
        },
        "id": "QxAU5S35rHkS",
        "outputId": "03825ad1-2247-42f9-be28-44eb2b6b70d6"
      },
      "execution_count": 95,
      "outputs": [
        {
          "output_type": "execute_result",
          "data": {
            "text/plain": [
              "12450"
            ]
          },
          "metadata": {},
          "execution_count": 95
        }
      ]
    },
    {
      "cell_type": "code",
      "source": [
        "data.isnull().sum()"
      ],
      "metadata": {
        "colab": {
          "base_uri": "https://localhost:8080/"
        },
        "id": "yD8h4ZcrrI0d",
        "outputId": "2d619aa1-6a8b-4f6a-82e7-844575dca0d8"
      },
      "execution_count": 96,
      "outputs": [
        {
          "output_type": "execute_result",
          "data": {
            "text/plain": [
              "description                 0\n",
              "rank                        0\n",
              "organizationName            0\n",
              "state                       0\n",
              "studentPopulation           0\n",
              "campusSetting               0\n",
              "medianBaseSalary            7\n",
              "longitude                  40\n",
              "latitude                   40\n",
              "website                    21\n",
              "phoneNumber                70\n",
              "city                        0\n",
              "country                     0\n",
              "state.1                     0\n",
              "region                      9\n",
              "yearFounded                47\n",
              "stateCode                   9\n",
              "collegeType                 0\n",
              "carnegieClassification      0\n",
              "studentFacultyRatio         0\n",
              "totalStudentPop             0\n",
              "undergradPop                0\n",
              "totalGrantAid               3\n",
              "percentOfStudentsFinAid     3\n",
              "percentOfStudentsGrant      3\n",
              "dtype: int64"
            ]
          },
          "metadata": {},
          "execution_count": 96
        }
      ]
    },
    {
      "cell_type": "code",
      "source": [
        "data=data.drop(['description','longitude',\t'latitude',\t'website','yearFounded'\t,'stateCode','carnegieClassification','phoneNumber','studentFacultyRatio','totalStudentPop','undergradPop','totalGrantAid','percentOfStudentsFinAid','percentOfStudentsGrant'],axis=1)"
      ],
      "metadata": {
        "id": "xhycmonzrLHa"
      },
      "execution_count": 97,
      "outputs": []
    },
    {
      "cell_type": "code",
      "source": [
        "data.head(5)"
      ],
      "metadata": {
        "colab": {
          "base_uri": "https://localhost:8080/",
          "height": 250
        },
        "id": "LUffYmmHtyW2",
        "outputId": "d2bf7dfe-7c12-4969-d0a2-3f43e0c15314"
      },
      "execution_count": 98,
      "outputs": [
        {
          "output_type": "execute_result",
          "data": {
            "text/plain": [
              "   rank                       organizationName state  studentPopulation  \\\n",
              "0     1  Massachusetts Institute of Technology    MA              12195   \n",
              "1     2                    Stanford University    CA              20961   \n",
              "2     2     University of California, Berkeley    CA              45878   \n",
              "3     4                   Princeton University    NJ               8532   \n",
              "4     5                    Columbia University    NY              33882   \n",
              "\n",
              "  campusSetting  medianBaseSalary       city        country        state.1  \\\n",
              "0         Urban          173700.0  Cambridge  United States  Massachusetts   \n",
              "1      Suburban          173500.0   Stanford  United States     California   \n",
              "2         Urban          154500.0   Berkeley  United States     California   \n",
              "3         Urban          167600.0  Princeton  United States     New Jersey   \n",
              "4         Urban          148800.0   New York  United States       New York   \n",
              "\n",
              "      region             collegeType  \n",
              "0  Northeast  Private not-for-profit  \n",
              "1       West  Private not-for-profit  \n",
              "2       West                  Public  \n",
              "3  Northeast  Private not-for-profit  \n",
              "4  Northeast  Private not-for-profit  "
            ],
            "text/html": [
              "\n",
              "  <div id=\"df-0f93d013-4289-4513-a6ca-a99572778d65\">\n",
              "    <div class=\"colab-df-container\">\n",
              "      <div>\n",
              "<style scoped>\n",
              "    .dataframe tbody tr th:only-of-type {\n",
              "        vertical-align: middle;\n",
              "    }\n",
              "\n",
              "    .dataframe tbody tr th {\n",
              "        vertical-align: top;\n",
              "    }\n",
              "\n",
              "    .dataframe thead th {\n",
              "        text-align: right;\n",
              "    }\n",
              "</style>\n",
              "<table border=\"1\" class=\"dataframe\">\n",
              "  <thead>\n",
              "    <tr style=\"text-align: right;\">\n",
              "      <th></th>\n",
              "      <th>rank</th>\n",
              "      <th>organizationName</th>\n",
              "      <th>state</th>\n",
              "      <th>studentPopulation</th>\n",
              "      <th>campusSetting</th>\n",
              "      <th>medianBaseSalary</th>\n",
              "      <th>city</th>\n",
              "      <th>country</th>\n",
              "      <th>state.1</th>\n",
              "      <th>region</th>\n",
              "      <th>collegeType</th>\n",
              "    </tr>\n",
              "  </thead>\n",
              "  <tbody>\n",
              "    <tr>\n",
              "      <th>0</th>\n",
              "      <td>1</td>\n",
              "      <td>Massachusetts Institute of Technology</td>\n",
              "      <td>MA</td>\n",
              "      <td>12195</td>\n",
              "      <td>Urban</td>\n",
              "      <td>173700.0</td>\n",
              "      <td>Cambridge</td>\n",
              "      <td>United States</td>\n",
              "      <td>Massachusetts</td>\n",
              "      <td>Northeast</td>\n",
              "      <td>Private not-for-profit</td>\n",
              "    </tr>\n",
              "    <tr>\n",
              "      <th>1</th>\n",
              "      <td>2</td>\n",
              "      <td>Stanford University</td>\n",
              "      <td>CA</td>\n",
              "      <td>20961</td>\n",
              "      <td>Suburban</td>\n",
              "      <td>173500.0</td>\n",
              "      <td>Stanford</td>\n",
              "      <td>United States</td>\n",
              "      <td>California</td>\n",
              "      <td>West</td>\n",
              "      <td>Private not-for-profit</td>\n",
              "    </tr>\n",
              "    <tr>\n",
              "      <th>2</th>\n",
              "      <td>2</td>\n",
              "      <td>University of California, Berkeley</td>\n",
              "      <td>CA</td>\n",
              "      <td>45878</td>\n",
              "      <td>Urban</td>\n",
              "      <td>154500.0</td>\n",
              "      <td>Berkeley</td>\n",
              "      <td>United States</td>\n",
              "      <td>California</td>\n",
              "      <td>West</td>\n",
              "      <td>Public</td>\n",
              "    </tr>\n",
              "    <tr>\n",
              "      <th>3</th>\n",
              "      <td>4</td>\n",
              "      <td>Princeton University</td>\n",
              "      <td>NJ</td>\n",
              "      <td>8532</td>\n",
              "      <td>Urban</td>\n",
              "      <td>167600.0</td>\n",
              "      <td>Princeton</td>\n",
              "      <td>United States</td>\n",
              "      <td>New Jersey</td>\n",
              "      <td>Northeast</td>\n",
              "      <td>Private not-for-profit</td>\n",
              "    </tr>\n",
              "    <tr>\n",
              "      <th>4</th>\n",
              "      <td>5</td>\n",
              "      <td>Columbia University</td>\n",
              "      <td>NY</td>\n",
              "      <td>33882</td>\n",
              "      <td>Urban</td>\n",
              "      <td>148800.0</td>\n",
              "      <td>New York</td>\n",
              "      <td>United States</td>\n",
              "      <td>New York</td>\n",
              "      <td>Northeast</td>\n",
              "      <td>Private not-for-profit</td>\n",
              "    </tr>\n",
              "  </tbody>\n",
              "</table>\n",
              "</div>\n",
              "      <button class=\"colab-df-convert\" onclick=\"convertToInteractive('df-0f93d013-4289-4513-a6ca-a99572778d65')\"\n",
              "              title=\"Convert this dataframe to an interactive table.\"\n",
              "              style=\"display:none;\">\n",
              "        \n",
              "  <svg xmlns=\"http://www.w3.org/2000/svg\" height=\"24px\"viewBox=\"0 0 24 24\"\n",
              "       width=\"24px\">\n",
              "    <path d=\"M0 0h24v24H0V0z\" fill=\"none\"/>\n",
              "    <path d=\"M18.56 5.44l.94 2.06.94-2.06 2.06-.94-2.06-.94-.94-2.06-.94 2.06-2.06.94zm-11 1L8.5 8.5l.94-2.06 2.06-.94-2.06-.94L8.5 2.5l-.94 2.06-2.06.94zm10 10l.94 2.06.94-2.06 2.06-.94-2.06-.94-.94-2.06-.94 2.06-2.06.94z\"/><path d=\"M17.41 7.96l-1.37-1.37c-.4-.4-.92-.59-1.43-.59-.52 0-1.04.2-1.43.59L10.3 9.45l-7.72 7.72c-.78.78-.78 2.05 0 2.83L4 21.41c.39.39.9.59 1.41.59.51 0 1.02-.2 1.41-.59l7.78-7.78 2.81-2.81c.8-.78.8-2.07 0-2.86zM5.41 20L4 18.59l7.72-7.72 1.47 1.35L5.41 20z\"/>\n",
              "  </svg>\n",
              "      </button>\n",
              "      \n",
              "  <style>\n",
              "    .colab-df-container {\n",
              "      display:flex;\n",
              "      flex-wrap:wrap;\n",
              "      gap: 12px;\n",
              "    }\n",
              "\n",
              "    .colab-df-convert {\n",
              "      background-color: #E8F0FE;\n",
              "      border: none;\n",
              "      border-radius: 50%;\n",
              "      cursor: pointer;\n",
              "      display: none;\n",
              "      fill: #1967D2;\n",
              "      height: 32px;\n",
              "      padding: 0 0 0 0;\n",
              "      width: 32px;\n",
              "    }\n",
              "\n",
              "    .colab-df-convert:hover {\n",
              "      background-color: #E2EBFA;\n",
              "      box-shadow: 0px 1px 2px rgba(60, 64, 67, 0.3), 0px 1px 3px 1px rgba(60, 64, 67, 0.15);\n",
              "      fill: #174EA6;\n",
              "    }\n",
              "\n",
              "    [theme=dark] .colab-df-convert {\n",
              "      background-color: #3B4455;\n",
              "      fill: #D2E3FC;\n",
              "    }\n",
              "\n",
              "    [theme=dark] .colab-df-convert:hover {\n",
              "      background-color: #434B5C;\n",
              "      box-shadow: 0px 1px 3px 1px rgba(0, 0, 0, 0.15);\n",
              "      filter: drop-shadow(0px 1px 2px rgba(0, 0, 0, 0.3));\n",
              "      fill: #FFFFFF;\n",
              "    }\n",
              "  </style>\n",
              "\n",
              "      <script>\n",
              "        const buttonEl =\n",
              "          document.querySelector('#df-0f93d013-4289-4513-a6ca-a99572778d65 button.colab-df-convert');\n",
              "        buttonEl.style.display =\n",
              "          google.colab.kernel.accessAllowed ? 'block' : 'none';\n",
              "\n",
              "        async function convertToInteractive(key) {\n",
              "          const element = document.querySelector('#df-0f93d013-4289-4513-a6ca-a99572778d65');\n",
              "          const dataTable =\n",
              "            await google.colab.kernel.invokeFunction('convertToInteractive',\n",
              "                                                     [key], {});\n",
              "          if (!dataTable) return;\n",
              "\n",
              "          const docLinkHtml = 'Like what you see? Visit the ' +\n",
              "            '<a target=\"_blank\" href=https://colab.research.google.com/notebooks/data_table.ipynb>data table notebook</a>'\n",
              "            + ' to learn more about interactive tables.';\n",
              "          element.innerHTML = '';\n",
              "          dataTable['output_type'] = 'display_data';\n",
              "          await google.colab.output.renderOutput(dataTable, element);\n",
              "          const docLink = document.createElement('div');\n",
              "          docLink.innerHTML = docLinkHtml;\n",
              "          element.appendChild(docLink);\n",
              "        }\n",
              "      </script>\n",
              "    </div>\n",
              "  </div>\n",
              "  "
            ]
          },
          "metadata": {},
          "execution_count": 98
        }
      ]
    },
    {
      "cell_type": "code",
      "source": [
        "data.isnull().sum()"
      ],
      "metadata": {
        "colab": {
          "base_uri": "https://localhost:8080/"
        },
        "id": "E46OkkxYr5fm",
        "outputId": "5384b4fd-f19c-4c7c-cb0e-a04d346ad899"
      },
      "execution_count": 99,
      "outputs": [
        {
          "output_type": "execute_result",
          "data": {
            "text/plain": [
              "rank                 0\n",
              "organizationName     0\n",
              "state                0\n",
              "studentPopulation    0\n",
              "campusSetting        0\n",
              "medianBaseSalary     7\n",
              "city                 0\n",
              "country              0\n",
              "state.1              0\n",
              "region               9\n",
              "collegeType          0\n",
              "dtype: int64"
            ]
          },
          "metadata": {},
          "execution_count": 99
        }
      ]
    },
    {
      "cell_type": "code",
      "source": [
        "from sklearn.impute import SimpleImputer\n",
        "si=SimpleImputer(missing_values=np.NaN,strategy='mean')\n",
        "X=data.iloc[:,5].values\n",
        "X=X.reshape(-1,1)\n",
        "data.iloc[:,5]=si.fit_transform(X)"
      ],
      "metadata": {
        "id": "UFEGMFkesTUD"
      },
      "execution_count": 100,
      "outputs": []
    },
    {
      "cell_type": "code",
      "source": [
        "from sklearn.impute import SimpleImputer\n",
        "si=SimpleImputer(missing_values=np.NaN,strategy='most_frequent')\n",
        "X=data.iloc[:,10].values\n",
        "X=X.reshape(-1,1)\n",
        "data.iloc[:,10]=si.fit_transform(X)"
      ],
      "metadata": {
        "id": "4RNOHxdztGHM"
      },
      "execution_count": 101,
      "outputs": []
    },
    {
      "cell_type": "code",
      "source": [
        "from sklearn.preprocessing import LabelEncoder\n",
        "lb=LabelEncoder()\n",
        "X=data.iloc[:,1].values\n",
        "data.iloc[:,1]=lb.fit_transform(X)\n",
        "X=X.reshape(-1,1)"
      ],
      "metadata": {
        "id": "f2w_T56dtNmu"
      },
      "execution_count": 102,
      "outputs": []
    },
    {
      "cell_type": "code",
      "source": [
        "from sklearn.preprocessing import LabelEncoder\n",
        "lb=LabelEncoder()\n",
        "X=data.iloc[:,2].values\n",
        "data.iloc[:,2]=lb.fit_transform(X)\n",
        "X=X.reshape(-1,1)"
      ],
      "metadata": {
        "id": "r14F3T0huTeR"
      },
      "execution_count": 103,
      "outputs": []
    },
    {
      "cell_type": "code",
      "source": [
        "from sklearn.preprocessing import LabelEncoder\n",
        "lb=LabelEncoder()\n",
        "X=data.iloc[:,4].values\n",
        "data.iloc[:,4]=lb.fit_transform(X)\n",
        "X=X.reshape(-1,1)"
      ],
      "metadata": {
        "id": "-cuh5Hi4ugOm"
      },
      "execution_count": 104,
      "outputs": []
    },
    {
      "cell_type": "code",
      "source": [
        "from sklearn.preprocessing import LabelEncoder\n",
        "lb=LabelEncoder()\n",
        "X=data.iloc[:,6].values\n",
        "data.iloc[:,6]=lb.fit_transform(X)\n",
        "X=X.reshape(-1,1)"
      ],
      "metadata": {
        "id": "Jo5mcVVZugKC"
      },
      "execution_count": 105,
      "outputs": []
    },
    {
      "cell_type": "code",
      "source": [
        "from sklearn.preprocessing import LabelEncoder\n",
        "lb=LabelEncoder()\n",
        "X=data.iloc[:,7].values\n",
        "data.iloc[:,7]=lb.fit_transform(X)\n",
        "X=X.reshape(-1,1)"
      ],
      "metadata": {
        "id": "4rN3qD5qugHH"
      },
      "execution_count": 106,
      "outputs": []
    },
    {
      "cell_type": "code",
      "source": [
        "from sklearn.preprocessing import LabelEncoder\n",
        "lb=LabelEncoder()\n",
        "X=data.iloc[:,8].values\n",
        "data.iloc[:,8]=lb.fit_transform(X)\n",
        "X=X.reshape(-1,1)"
      ],
      "metadata": {
        "id": "3lEzR2-1ugBl"
      },
      "execution_count": 107,
      "outputs": []
    },
    {
      "cell_type": "code",
      "source": [
        "from sklearn.preprocessing import LabelEncoder\n",
        "lb=LabelEncoder()\n",
        "X=data.iloc[:,9].values\n",
        "data.iloc[:,9]=lb.fit_transform(X)\n",
        "X=X.reshape(-1,1)"
      ],
      "metadata": {
        "id": "23vuZCPZuf98"
      },
      "execution_count": 108,
      "outputs": []
    },
    {
      "cell_type": "code",
      "source": [
        "from sklearn.preprocessing import LabelEncoder\n",
        "lb=LabelEncoder()\n",
        "X=data.iloc[:,10].values\n",
        "data.iloc[:,10]=lb.fit_transform(X)\n",
        "X=X.reshape(-1,1)"
      ],
      "metadata": {
        "id": "QdVeLXEKuf6p"
      },
      "execution_count": 109,
      "outputs": []
    },
    {
      "cell_type": "code",
      "source": [
        "data.tail(5)"
      ],
      "metadata": {
        "colab": {
          "base_uri": "https://localhost:8080/",
          "height": 206
        },
        "id": "r-Eb2cjHu5DQ",
        "outputId": "aec41f0b-b1ff-4d83-9393-fb8154de0f77"
      },
      "execution_count": 110,
      "outputs": [
        {
          "output_type": "execute_result",
          "data": {
            "text/plain": [
              "     rank  organizationName  state  studentPopulation  campusSetting  \\\n",
              "493   494               314     33               5901              2   \n",
              "494   495               211     37               2961              2   \n",
              "495   496               173     21               3163              2   \n",
              "496   497               282     47               1980              2   \n",
              "497   498               395     42              25128              2   \n",
              "\n",
              "     medianBaseSalary  city  country  state.1  region  collegeType  \n",
              "493          100900.0    42        0       31       1            0  \n",
              "494          109800.0    29        0       37       1            0  \n",
              "495          119900.0   316        0       21       0            0  \n",
              "496          102100.0   179        0       47       3            0  \n",
              "497           90700.0   212        0       42       2            1  "
            ],
            "text/html": [
              "\n",
              "  <div id=\"df-c0bb4fe6-9cd1-4223-b07a-ec6848999646\">\n",
              "    <div class=\"colab-df-container\">\n",
              "      <div>\n",
              "<style scoped>\n",
              "    .dataframe tbody tr th:only-of-type {\n",
              "        vertical-align: middle;\n",
              "    }\n",
              "\n",
              "    .dataframe tbody tr th {\n",
              "        vertical-align: top;\n",
              "    }\n",
              "\n",
              "    .dataframe thead th {\n",
              "        text-align: right;\n",
              "    }\n",
              "</style>\n",
              "<table border=\"1\" class=\"dataframe\">\n",
              "  <thead>\n",
              "    <tr style=\"text-align: right;\">\n",
              "      <th></th>\n",
              "      <th>rank</th>\n",
              "      <th>organizationName</th>\n",
              "      <th>state</th>\n",
              "      <th>studentPopulation</th>\n",
              "      <th>campusSetting</th>\n",
              "      <th>medianBaseSalary</th>\n",
              "      <th>city</th>\n",
              "      <th>country</th>\n",
              "      <th>state.1</th>\n",
              "      <th>region</th>\n",
              "      <th>collegeType</th>\n",
              "    </tr>\n",
              "  </thead>\n",
              "  <tbody>\n",
              "    <tr>\n",
              "      <th>493</th>\n",
              "      <td>494</td>\n",
              "      <td>314</td>\n",
              "      <td>33</td>\n",
              "      <td>5901</td>\n",
              "      <td>2</td>\n",
              "      <td>100900.0</td>\n",
              "      <td>42</td>\n",
              "      <td>0</td>\n",
              "      <td>31</td>\n",
              "      <td>1</td>\n",
              "      <td>0</td>\n",
              "    </tr>\n",
              "    <tr>\n",
              "      <th>494</th>\n",
              "      <td>495</td>\n",
              "      <td>211</td>\n",
              "      <td>37</td>\n",
              "      <td>2961</td>\n",
              "      <td>2</td>\n",
              "      <td>109800.0</td>\n",
              "      <td>29</td>\n",
              "      <td>0</td>\n",
              "      <td>37</td>\n",
              "      <td>1</td>\n",
              "      <td>0</td>\n",
              "    </tr>\n",
              "    <tr>\n",
              "      <th>495</th>\n",
              "      <td>496</td>\n",
              "      <td>173</td>\n",
              "      <td>21</td>\n",
              "      <td>3163</td>\n",
              "      <td>2</td>\n",
              "      <td>119900.0</td>\n",
              "      <td>316</td>\n",
              "      <td>0</td>\n",
              "      <td>21</td>\n",
              "      <td>0</td>\n",
              "      <td>0</td>\n",
              "    </tr>\n",
              "    <tr>\n",
              "      <th>496</th>\n",
              "      <td>497</td>\n",
              "      <td>282</td>\n",
              "      <td>47</td>\n",
              "      <td>1980</td>\n",
              "      <td>2</td>\n",
              "      <td>102100.0</td>\n",
              "      <td>179</td>\n",
              "      <td>0</td>\n",
              "      <td>47</td>\n",
              "      <td>3</td>\n",
              "      <td>0</td>\n",
              "    </tr>\n",
              "    <tr>\n",
              "      <th>497</th>\n",
              "      <td>498</td>\n",
              "      <td>395</td>\n",
              "      <td>42</td>\n",
              "      <td>25128</td>\n",
              "      <td>2</td>\n",
              "      <td>90700.0</td>\n",
              "      <td>212</td>\n",
              "      <td>0</td>\n",
              "      <td>42</td>\n",
              "      <td>2</td>\n",
              "      <td>1</td>\n",
              "    </tr>\n",
              "  </tbody>\n",
              "</table>\n",
              "</div>\n",
              "      <button class=\"colab-df-convert\" onclick=\"convertToInteractive('df-c0bb4fe6-9cd1-4223-b07a-ec6848999646')\"\n",
              "              title=\"Convert this dataframe to an interactive table.\"\n",
              "              style=\"display:none;\">\n",
              "        \n",
              "  <svg xmlns=\"http://www.w3.org/2000/svg\" height=\"24px\"viewBox=\"0 0 24 24\"\n",
              "       width=\"24px\">\n",
              "    <path d=\"M0 0h24v24H0V0z\" fill=\"none\"/>\n",
              "    <path d=\"M18.56 5.44l.94 2.06.94-2.06 2.06-.94-2.06-.94-.94-2.06-.94 2.06-2.06.94zm-11 1L8.5 8.5l.94-2.06 2.06-.94-2.06-.94L8.5 2.5l-.94 2.06-2.06.94zm10 10l.94 2.06.94-2.06 2.06-.94-2.06-.94-.94-2.06-.94 2.06-2.06.94z\"/><path d=\"M17.41 7.96l-1.37-1.37c-.4-.4-.92-.59-1.43-.59-.52 0-1.04.2-1.43.59L10.3 9.45l-7.72 7.72c-.78.78-.78 2.05 0 2.83L4 21.41c.39.39.9.59 1.41.59.51 0 1.02-.2 1.41-.59l7.78-7.78 2.81-2.81c.8-.78.8-2.07 0-2.86zM5.41 20L4 18.59l7.72-7.72 1.47 1.35L5.41 20z\"/>\n",
              "  </svg>\n",
              "      </button>\n",
              "      \n",
              "  <style>\n",
              "    .colab-df-container {\n",
              "      display:flex;\n",
              "      flex-wrap:wrap;\n",
              "      gap: 12px;\n",
              "    }\n",
              "\n",
              "    .colab-df-convert {\n",
              "      background-color: #E8F0FE;\n",
              "      border: none;\n",
              "      border-radius: 50%;\n",
              "      cursor: pointer;\n",
              "      display: none;\n",
              "      fill: #1967D2;\n",
              "      height: 32px;\n",
              "      padding: 0 0 0 0;\n",
              "      width: 32px;\n",
              "    }\n",
              "\n",
              "    .colab-df-convert:hover {\n",
              "      background-color: #E2EBFA;\n",
              "      box-shadow: 0px 1px 2px rgba(60, 64, 67, 0.3), 0px 1px 3px 1px rgba(60, 64, 67, 0.15);\n",
              "      fill: #174EA6;\n",
              "    }\n",
              "\n",
              "    [theme=dark] .colab-df-convert {\n",
              "      background-color: #3B4455;\n",
              "      fill: #D2E3FC;\n",
              "    }\n",
              "\n",
              "    [theme=dark] .colab-df-convert:hover {\n",
              "      background-color: #434B5C;\n",
              "      box-shadow: 0px 1px 3px 1px rgba(0, 0, 0, 0.15);\n",
              "      filter: drop-shadow(0px 1px 2px rgba(0, 0, 0, 0.3));\n",
              "      fill: #FFFFFF;\n",
              "    }\n",
              "  </style>\n",
              "\n",
              "      <script>\n",
              "        const buttonEl =\n",
              "          document.querySelector('#df-c0bb4fe6-9cd1-4223-b07a-ec6848999646 button.colab-df-convert');\n",
              "        buttonEl.style.display =\n",
              "          google.colab.kernel.accessAllowed ? 'block' : 'none';\n",
              "\n",
              "        async function convertToInteractive(key) {\n",
              "          const element = document.querySelector('#df-c0bb4fe6-9cd1-4223-b07a-ec6848999646');\n",
              "          const dataTable =\n",
              "            await google.colab.kernel.invokeFunction('convertToInteractive',\n",
              "                                                     [key], {});\n",
              "          if (!dataTable) return;\n",
              "\n",
              "          const docLinkHtml = 'Like what you see? Visit the ' +\n",
              "            '<a target=\"_blank\" href=https://colab.research.google.com/notebooks/data_table.ipynb>data table notebook</a>'\n",
              "            + ' to learn more about interactive tables.';\n",
              "          element.innerHTML = '';\n",
              "          dataTable['output_type'] = 'display_data';\n",
              "          await google.colab.output.renderOutput(dataTable, element);\n",
              "          const docLink = document.createElement('div');\n",
              "          docLink.innerHTML = docLinkHtml;\n",
              "          element.appendChild(docLink);\n",
              "        }\n",
              "      </script>\n",
              "    </div>\n",
              "  </div>\n",
              "  "
            ]
          },
          "metadata": {},
          "execution_count": 110
        }
      ]
    },
    {
      "cell_type": "code",
      "source": [
        "X=data[['rank',\t'organizationName',\t'state','studentPopulation',\t'medianBaseSalary',\t'city',\t'country',\t'state.1',\t'region','collegeType']]\n",
        "Y=data['campusSetting']"
      ],
      "metadata": {
        "id": "NLfNs5-ou7Fb"
      },
      "execution_count": 111,
      "outputs": []
    },
    {
      "cell_type": "code",
      "source": [
        "from sklearn.model_selection import train_test_split\n",
        "X_train,X_test,Y_train,Y_test=train_test_split(X,Y,test_size=0.25)"
      ],
      "metadata": {
        "id": "ff8lMJ7hvf0v"
      },
      "execution_count": 112,
      "outputs": []
    },
    {
      "cell_type": "code",
      "source": [
        "from sklearn.preprocessing import MinMaxScaler\n",
        "ms=MinMaxScaler()\n",
        "X_train_min=ms.fit_transform(X_train)\n",
        "X_test_min=ms.transform(X_test)"
      ],
      "metadata": {
        "id": "DjAG-97ovs9n"
      },
      "execution_count": 113,
      "outputs": []
    },
    {
      "cell_type": "code",
      "source": [
        "from sklearn.preprocessing import StandardScaler\n",
        "ss=StandardScaler()\n",
        "X_train_norm=ss.fit_transform(X_train)\n",
        "X_test_norm=ss.transform(X_test)"
      ],
      "metadata": {
        "id": "xemZ43DTw2A0"
      },
      "execution_count": 114,
      "outputs": []
    },
    {
      "cell_type": "code",
      "source": [
        "from sklearn.decomposition import PCA\n",
        "pca=PCA(n_components=2)\n",
        "X_train_pca=pca.fit_transform(X_train)\n",
        "X_train_pca=pca.transform(X_train)\n",
        "X_test_pca=pca.fit_transform(X_test)\n",
        "X_test_pca=pca.transform(X_test)\n",
        "pca.explained_variance_ratio_"
      ],
      "metadata": {
        "colab": {
          "base_uri": "https://localhost:8080/"
        },
        "id": "VPc-1J04xNHw",
        "outputId": "5bec1f7b-3eeb-4027-a74a-cbde0372683e"
      },
      "execution_count": 115,
      "outputs": [
        {
          "output_type": "execute_result",
          "data": {
            "text/plain": [
              "array([0.57292533, 0.42700277])"
            ]
          },
          "metadata": {},
          "execution_count": 115
        }
      ]
    },
    {
      "cell_type": "markdown",
      "source": [
        "#Prediction Made on Campus Setting"
      ],
      "metadata": {
        "id": "0mPequhNDzhW"
      }
    },
    {
      "cell_type": "markdown",
      "source": [
        "#K-Nearest Neighbor"
      ],
      "metadata": {
        "id": "HBjdvUtpDuYV"
      }
    },
    {
      "cell_type": "code",
      "source": [
        "from sklearn.neighbors import KNeighborsClassifier\n",
        "knn=KNeighborsClassifier(n_neighbors=9)\n",
        "knn.fit(X_train_min,Y_train)\n",
        "prediction=knn.predict(X_test_min)\n",
        "\n",
        "from sklearn.metrics import accuracy_score\n",
        "accuracy=accuracy_score(Y_test,prediction)\n",
        "print(\"Accuracy is\",accuracy*100,\"%\")\n",
        "\n",
        "target_names=['Rural','Urban','Suburban']\n",
        "print(classification_report(Y_test,prediction.reshape(-1,1),target_names=target_names))\n",
        "cm=confusion_matrix(Y_test,prediction.reshape(-1,1),normalize='true')\n",
        "disp=ConfusionMatrixDisplay(confusion_matrix=cm,display_labels=target_names)\n",
        "fig,ax=plt.subplots(figsize=(8,6))\n",
        "disp.plot(ax=ax,cmap='Greens')"
      ],
      "metadata": {
        "colab": {
          "base_uri": "https://localhost:8080/",
          "height": 596
        },
        "id": "Y05t2Rsc2LI9",
        "outputId": "bc07a03e-f4d0-4a5b-85cd-e71948739b0a"
      },
      "execution_count": 116,
      "outputs": [
        {
          "output_type": "stream",
          "name": "stdout",
          "text": [
            "Accuracy is 47.199999999999996 %\n",
            "              precision    recall  f1-score   support\n",
            "\n",
            "       Rural       0.00      0.00      0.00        23\n",
            "       Urban       0.37      0.29      0.32        38\n",
            "    Suburban       0.54      0.75      0.63        64\n",
            "\n",
            "    accuracy                           0.47       125\n",
            "   macro avg       0.30      0.35      0.32       125\n",
            "weighted avg       0.39      0.47      0.42       125\n",
            "\n"
          ]
        },
        {
          "output_type": "execute_result",
          "data": {
            "text/plain": [
              "<sklearn.metrics._plot.confusion_matrix.ConfusionMatrixDisplay at 0x7f1f5c63ebe0>"
            ]
          },
          "metadata": {},
          "execution_count": 116
        },
        {
          "output_type": "display_data",
          "data": {
            "text/plain": [
              "<Figure size 576x432 with 2 Axes>"
            ],
            "image/png": "[encoded data removed]"
          },
          "metadata": {
            "needs_background": "light"
          }
        }
      ]
    },
    {
      "cell_type": "code",
      "source": [
        "from sklearn.neighbors import KNeighborsClassifier\n",
        "knn=KNeighborsClassifier(n_neighbors=9)\n",
        "knn.fit(X_train_norm,Y_train)\n",
        "prediction=knn.predict(X_test_norm)\n",
        "\n",
        "from sklearn.metrics import accuracy_score\n",
        "accuracy=accuracy_score(Y_test,prediction)\n",
        "print(\"Accuracy is\",accuracy*100,\"%\")\n",
        "\n",
        "target_names=['Rural','Urban','Suburban']\n",
        "print(classification_report(Y_test,prediction.reshape(-1,1),target_names=target_names))\n",
        "cm=confusion_matrix(Y_test,prediction.reshape(-1,1),normalize='true')\n",
        "disp=ConfusionMatrixDisplay(confusion_matrix=cm,display_labels=target_names)\n",
        "fig,ax=plt.subplots(figsize=(8,6))\n",
        "disp.plot(ax=ax,cmap='Greens')"
      ],
      "metadata": {
        "colab": {
          "base_uri": "https://localhost:8080/",
          "height": 596
        },
        "id": "CA0rW1T622hD",
        "outputId": "4c0a95d1-639d-4a88-c242-9ba0247b1f25"
      },
      "execution_count": 117,
      "outputs": [
        {
          "output_type": "stream",
          "name": "stdout",
          "text": [
            "Accuracy is 49.6 %\n",
            "              precision    recall  f1-score   support\n",
            "\n",
            "       Rural       0.17      0.04      0.07        23\n",
            "       Urban       0.43      0.32      0.36        38\n",
            "    Suburban       0.54      0.77      0.63        64\n",
            "\n",
            "    accuracy                           0.50       125\n",
            "   macro avg       0.38      0.37      0.35       125\n",
            "weighted avg       0.44      0.50      0.45       125\n",
            "\n"
          ]
        },
        {
          "output_type": "execute_result",
          "data": {
            "text/plain": [
              "<sklearn.metrics._plot.confusion_matrix.ConfusionMatrixDisplay at 0x7f1f5c525130>"
            ]
          },
          "metadata": {},
          "execution_count": 117
        },
        {
          "output_type": "display_data",
          "data": {
            "text/plain": [
              "<Figure size 576x432 with 2 Axes>"
            ],
            "image/png": "[encoded data removed]"
          },
          "metadata": {
            "needs_background": "light"
          }
        }
      ]
    },
    {
      "cell_type": "markdown",
      "source": [
        "#Naive-Bayes"
      ],
      "metadata": {
        "id": "DFrswbWnD66I"
      }
    },
    {
      "cell_type": "code",
      "source": [
        "from sklearn.naive_bayes import GaussianNB\n",
        "nb=GaussianNB()\n",
        "nb.fit(X_train_min,Y_train)\n",
        "prediction=nb.predict(X_test_min)\n",
        "\n",
        "from sklearn.metrics import accuracy_score\n",
        "accuracy=accuracy_score(Y_test,prediction)\n",
        "print(\"Accuracy is\",accuracy*100,\"%\")\n",
        "\n",
        "target_names=['Rural','Urban','Suburban']\n",
        "print(classification_report(Y_test,prediction.reshape(-1,1),target_names=target_names))\n",
        "cm=confusion_matrix(Y_test,prediction.reshape(-1,1),normalize='true')\n",
        "disp=ConfusionMatrixDisplay(confusion_matrix=cm,display_labels=target_names)\n",
        "fig,ax=plt.subplots(figsize=(8,6))\n",
        "disp.plot(ax=ax,cmap='Purples')"
      ],
      "metadata": {
        "id": "mIFIk119-ei8",
        "colab": {
          "base_uri": "https://localhost:8080/",
          "height": 596
        },
        "outputId": "6839664f-ed26-4a3f-e46b-928882e11147"
      },
      "execution_count": 118,
      "outputs": [
        {
          "output_type": "stream",
          "name": "stdout",
          "text": [
            "Accuracy is 46.400000000000006 %\n",
            "              precision    recall  f1-score   support\n",
            "\n",
            "       Rural       0.28      0.35      0.31        23\n",
            "       Urban       0.22      0.11      0.14        38\n",
            "    Suburban       0.59      0.72      0.65        64\n",
            "\n",
            "    accuracy                           0.46       125\n",
            "   macro avg       0.36      0.39      0.37       125\n",
            "weighted avg       0.42      0.46      0.43       125\n",
            "\n"
          ]
        },
        {
          "output_type": "execute_result",
          "data": {
            "text/plain": [
              "<sklearn.metrics._plot.confusion_matrix.ConfusionMatrixDisplay at 0x7f1f5c7f81f0>"
            ]
          },
          "metadata": {},
          "execution_count": 118
        },
        {
          "output_type": "display_data",
          "data": {
            "text/plain": [
              "<Figure size 576x432 with 2 Axes>"
            ],
            "image/png": "[encoded data removed]"
          },
          "metadata": {
            "needs_background": "light"
          }
        }
      ]
    },
    {
      "cell_type": "code",
      "source": [
        "from sklearn.naive_bayes import GaussianNB\n",
        "nb=GaussianNB()\n",
        "nb.fit(X_train_norm,Y_train)\n",
        "prediction=nb.predict(X_test_norm)\n",
        "\n",
        "from sklearn.metrics import accuracy_score\n",
        "accuracy=accuracy_score(Y_test,prediction)\n",
        "print(\"Accuracy is\",accuracy*100,\"%\")\n",
        "\n",
        "target_names=['Rural','Urban','Suburban']\n",
        "print(classification_report(Y_test,prediction.reshape(-1,1),target_names=target_names))\n",
        "cm=confusion_matrix(Y_test,prediction.reshape(-1,1),normalize='true')\n",
        "disp=ConfusionMatrixDisplay(confusion_matrix=cm,display_labels=target_names)\n",
        "fig,ax=plt.subplots(figsize=(8,6))\n",
        "disp.plot(ax=ax,cmap='Greens')"
      ],
      "metadata": {
        "colab": {
          "base_uri": "https://localhost:8080/",
          "height": 596
        },
        "id": "9ieb03RmAabC",
        "outputId": "bbdd647b-0e5f-423c-8c13-068d40775485"
      },
      "execution_count": 119,
      "outputs": [
        {
          "output_type": "stream",
          "name": "stdout",
          "text": [
            "Accuracy is 46.400000000000006 %\n",
            "              precision    recall  f1-score   support\n",
            "\n",
            "       Rural       0.28      0.35      0.31        23\n",
            "       Urban       0.22      0.11      0.14        38\n",
            "    Suburban       0.59      0.72      0.65        64\n",
            "\n",
            "    accuracy                           0.46       125\n",
            "   macro avg       0.36      0.39      0.37       125\n",
            "weighted avg       0.42      0.46      0.43       125\n",
            "\n"
          ]
        },
        {
          "output_type": "execute_result",
          "data": {
            "text/plain": [
              "<sklearn.metrics._plot.confusion_matrix.ConfusionMatrixDisplay at 0x7f1f5c3c4250>"
            ]
          },
          "metadata": {},
          "execution_count": 119
        },
        {
          "output_type": "display_data",
          "data": {
            "text/plain": [
              "<Figure size 576x432 with 2 Axes>"
            ],
            "image/png": "[encoded data removed]"
          },
          "metadata": {
            "needs_background": "light"
          }
        }
      ]
    },
    {
      "cell_type": "markdown",
      "source": [
        "#Support Vector Machine"
      ],
      "metadata": {
        "id": "IDKqNzdBEBEG"
      }
    },
    {
      "cell_type": "code",
      "source": [
        "from sklearn.svm import SVC\n",
        "svc=SVC()\n",
        "svc.fit(X_train_min,Y_train.values.ravel())\n",
        "prediction=svc.predict(X_test_min)\n",
        "\n",
        "from sklearn.metrics import accuracy_score\n",
        "accuracy=accuracy_score(Y_test,prediction)\n",
        "print(\"Accuracy is\",accuracy*100,\"%\")\n"
      ],
      "metadata": {
        "colab": {
          "base_uri": "https://localhost:8080/"
        },
        "id": "4R5lEV9VCYDN",
        "outputId": "beb9893d-a836-4288-88d8-b0369a528a25"
      },
      "execution_count": 120,
      "outputs": [
        {
          "output_type": "stream",
          "name": "stdout",
          "text": [
            "Accuracy is 51.2 %\n"
          ]
        }
      ]
    },
    {
      "cell_type": "code",
      "source": [
        "from sklearn.svm import SVC\n",
        "svc=SVC()\n",
        "svc.fit(X_train_norm,Y_train.values.ravel())\n",
        "prediction=svc.predict(X_test_norm)\n",
        "\n",
        "from sklearn.metrics import accuracy_score\n",
        "accuracy=accuracy_score(Y_test,prediction)\n",
        "print(\"Accuracy is\",accuracy*100,\"%\")"
      ],
      "metadata": {
        "colab": {
          "base_uri": "https://localhost:8080/"
        },
        "id": "HP-Gvs81DL3O",
        "outputId": "8c08275c-f3bb-401e-d3aa-e459955a01ce"
      },
      "execution_count": 121,
      "outputs": [
        {
          "output_type": "stream",
          "name": "stdout",
          "text": [
            "Accuracy is 52.0 %\n"
          ]
        }
      ]
    },
    {
      "cell_type": "markdown",
      "source": [
        "#Decision Tree"
      ],
      "metadata": {
        "id": "ArfQ4cF-EEvX"
      }
    },
    {
      "cell_type": "code",
      "source": [
        "from sklearn.tree import DecisionTreeClassifier\n",
        "dt=DecisionTreeClassifier(criterion=\"gini\",max_depth=4,random_state=0)\n",
        "dt.fit(X_train_min,Y_train)\n",
        "prediction=dt.predict(X_test_min)\n",
        "\n",
        "from sklearn.metrics import accuracy_score\n",
        "accuracy=accuracy_score(Y_test,prediction)\n",
        "print(\"Accuracy is\",accuracy*100,\"%\")\n",
        "\n",
        "target_names=['Rural','Urban','Suburban']\n",
        "print(classification_report(Y_test,prediction.reshape(-1,1),target_names=target_names))\n",
        "cm=confusion_matrix(Y_test,prediction.reshape(-1,1),normalize='true')\n",
        "disp=ConfusionMatrixDisplay(confusion_matrix=cm,display_labels=target_names)\n",
        "fig,ax=plt.subplots(figsize=(8,6))\n",
        "disp.plot(ax=ax,cmap='Purples')"
      ],
      "metadata": {
        "colab": {
          "base_uri": "https://localhost:8080/",
          "height": 596
        },
        "id": "gg8bWIjzDmnK",
        "outputId": "2ef4461c-f484-4111-b296-1ad295f0a1ef"
      },
      "execution_count": 122,
      "outputs": [
        {
          "output_type": "stream",
          "name": "stdout",
          "text": [
            "Accuracy is 52.800000000000004 %\n",
            "              precision    recall  f1-score   support\n",
            "\n",
            "       Rural       0.40      0.26      0.32        23\n",
            "       Urban       0.40      0.05      0.09        38\n",
            "    Suburban       0.55      0.91      0.69        64\n",
            "\n",
            "    accuracy                           0.53       125\n",
            "   macro avg       0.45      0.41      0.37       125\n",
            "weighted avg       0.48      0.53      0.44       125\n",
            "\n"
          ]
        },
        {
          "output_type": "execute_result",
          "data": {
            "text/plain": [
              "<sklearn.metrics._plot.confusion_matrix.ConfusionMatrixDisplay at 0x7f1f5c5a6460>"
            ]
          },
          "metadata": {},
          "execution_count": 122
        },
        {
          "output_type": "display_data",
          "data": {
            "text/plain": [
              "<Figure size 576x432 with 2 Axes>"
            ],
            "image/png": "[encoded data removed]"
          },
          "metadata": {
            "needs_background": "light"
          }
        }
      ]
    },
    {
      "cell_type": "code",
      "source": [
        "from sklearn.tree import DecisionTreeClassifier\n",
        "dt=DecisionTreeClassifier(criterion=\"gini\",max_depth=5,random_state=0)\n",
        "dt.fit(X_train_norm,Y_train)\n",
        "prediction=dt.predict(X_test_norm)\n",
        "\n",
        "from sklearn.metrics import accuracy_score\n",
        "accuracy=accuracy_score(Y_test,prediction)\n",
        "print(\"Accuracy is\",accuracy*100,\"%\")\n",
        "\n",
        "target_names=['Rural','Urban','Suburban']\n",
        "print(classification_report(Y_test,prediction.reshape(-1,1),target_names=target_names))\n",
        "cm=confusion_matrix(Y_test,prediction.reshape(-1,1),normalize='true')\n",
        "disp=ConfusionMatrixDisplay(confusion_matrix=cm,display_labels=target_names)\n",
        "fig,ax=plt.subplots(figsize=(8,6))\n",
        "disp.plot(ax=ax,cmap='Greens')"
      ],
      "metadata": {
        "colab": {
          "base_uri": "https://localhost:8080/",
          "height": 596
        },
        "id": "1HcfDMWqEvSK",
        "outputId": "eaab72b5-edcc-493d-d3d0-5b63c60c7aae"
      },
      "execution_count": 123,
      "outputs": [
        {
          "output_type": "stream",
          "name": "stdout",
          "text": [
            "Accuracy is 49.6 %\n",
            "              precision    recall  f1-score   support\n",
            "\n",
            "       Rural       0.43      0.13      0.20        23\n",
            "       Urban       0.33      0.34      0.33        38\n",
            "    Suburban       0.59      0.72      0.65        64\n",
            "\n",
            "    accuracy                           0.50       125\n",
            "   macro avg       0.45      0.40      0.39       125\n",
            "weighted avg       0.48      0.50      0.47       125\n",
            "\n"
          ]
        },
        {
          "output_type": "execute_result",
          "data": {
            "text/plain": [
              "<sklearn.metrics._plot.confusion_matrix.ConfusionMatrixDisplay at 0x7f1f5c9e2310>"
            ]
          },
          "metadata": {},
          "execution_count": 123
        },
        {
          "output_type": "display_data",
          "data": {
            "text/plain": [
              "<Figure size 576x432 with 2 Axes>"
            ],
            "image/png": "[encoded data removed]"
          },
          "metadata": {
            "needs_background": "light"
          }
        }
      ]
    },
    {
      "cell_type": "markdown",
      "source": [
        "#Random Forest"
      ],
      "metadata": {
        "id": "DOHTGmLmLWFE"
      }
    },
    {
      "cell_type": "code",
      "source": [
        "from sklearn.ensemble import RandomForestClassifier\n",
        "rt=RandomForestClassifier(n_estimators=100)\n",
        "rt.fit(X_train_min,Y_train)\n",
        "prediction=rt.predict(X_test_min)\n",
        "\n",
        "from sklearn.metrics import accuracy_score\n",
        "accuracy=accuracy_score(Y_test,prediction)\n",
        "print(\"Accuracy is\",accuracy*100,\"%\")\n",
        "\n",
        "target_names=['Rural','Urban','Suburban']\n",
        "print(classification_report(Y_test,prediction.reshape(-1,1),target_names=target_names))\n",
        "cm=confusion_matrix(Y_test,prediction.reshape(-1,1),normalize='true')\n",
        "disp=ConfusionMatrixDisplay(confusion_matrix=cm,display_labels=target_names)\n",
        "fig,ax=plt.subplots(figsize=(8,6))\n",
        "disp.plot(ax=ax,cmap='Purples')"
      ],
      "metadata": {
        "colab": {
          "base_uri": "https://localhost:8080/",
          "height": 596
        },
        "id": "Zt3O7IYfJIby",
        "outputId": "cc0108f4-4135-4ad5-96f1-97157e7a36a6"
      },
      "execution_count": 124,
      "outputs": [
        {
          "output_type": "stream",
          "name": "stdout",
          "text": [
            "Accuracy is 52.800000000000004 %\n",
            "              precision    recall  f1-score   support\n",
            "\n",
            "       Rural       0.00      0.00      0.00        23\n",
            "       Urban       0.38      0.16      0.22        38\n",
            "    Suburban       0.56      0.94      0.70        64\n",
            "\n",
            "    accuracy                           0.53       125\n",
            "   macro avg       0.31      0.37      0.31       125\n",
            "weighted avg       0.40      0.53      0.42       125\n",
            "\n"
          ]
        },
        {
          "output_type": "execute_result",
          "data": {
            "text/plain": [
              "<sklearn.metrics._plot.confusion_matrix.ConfusionMatrixDisplay at 0x7f1f5c247a90>"
            ]
          },
          "metadata": {},
          "execution_count": 124
        },
        {
          "output_type": "display_data",
          "data": {
            "text/plain": [
              "<Figure size 576x432 with 2 Axes>"
            ],
            "image/png": "[encoded data removed]"
          },
          "metadata": {
            "needs_background": "light"
          }
        }
      ]
    },
    {
      "cell_type": "code",
      "source": [
        "from sklearn.ensemble import RandomForestClassifier\n",
        "rt=RandomForestClassifier(n_estimators=50)\n",
        "rt.fit(X_train_norm,Y_train)\n",
        "prediction=rt.predict(X_test_norm)\n",
        "\n",
        "from sklearn.metrics import accuracy_score\n",
        "accuracy=accuracy_score(Y_test,prediction)\n",
        "print(\"Accuracy is\",accuracy*100,\"%\")\n",
        "\n",
        "target_names=['Rural','Urban','Suburban']\n",
        "print(classification_report(Y_test,prediction.reshape(-1,1),target_names=target_names))\n",
        "cm=confusion_matrix(Y_test,prediction.reshape(-1,1),normalize='true')\n",
        "disp=ConfusionMatrixDisplay(confusion_matrix=cm,display_labels=target_names)\n",
        "fig,ax=plt.subplots(figsize=(8,6))\n",
        "disp.plot(ax=ax,cmap='Purples')"
      ],
      "metadata": {
        "colab": {
          "base_uri": "https://localhost:8080/",
          "height": 596
        },
        "id": "sAK833ylLIUc",
        "outputId": "40dd1925-ffc6-446f-c710-997dd1ab02c5"
      },
      "execution_count": 125,
      "outputs": [
        {
          "output_type": "stream",
          "name": "stdout",
          "text": [
            "Accuracy is 52.0 %\n",
            "              precision    recall  f1-score   support\n",
            "\n",
            "       Rural       0.50      0.04      0.08        23\n",
            "       Urban       0.47      0.18      0.26        38\n",
            "    Suburban       0.53      0.89      0.66        64\n",
            "\n",
            "    accuracy                           0.52       125\n",
            "   macro avg       0.50      0.37      0.34       125\n",
            "weighted avg       0.50      0.52      0.43       125\n",
            "\n"
          ]
        },
        {
          "output_type": "execute_result",
          "data": {
            "text/plain": [
              "<sklearn.metrics._plot.confusion_matrix.ConfusionMatrixDisplay at 0x7f1f5c1d7400>"
            ]
          },
          "metadata": {},
          "execution_count": 125
        },
        {
          "output_type": "display_data",
          "data": {
            "text/plain": [
              "<Figure size 576x432 with 2 Axes>"
            ],
            "image/png": "[encoded data removed]"
          },
          "metadata": {
            "needs_background": "light"
          }
        }
      ]
    },
    {
      "cell_type": "markdown",
      "source": [
        "#Prediction On Type of Colleges"
      ],
      "metadata": {
        "id": "YW3-VCbc-vEL"
      }
    },
    {
      "cell_type": "code",
      "source": [
        "M=data[['rank',\t'organizationName',\t'state','studentPopulation',\t'medianBaseSalary',\t'city',\t'country',\t'state.1',\t'region','campusSetting']]\n",
        "N=data['collegeType']"
      ],
      "metadata": {
        "id": "2acGS1g1L2AK"
      },
      "execution_count": 126,
      "outputs": []
    },
    {
      "cell_type": "code",
      "source": [
        "from sklearn.model_selection import train_test_split\n",
        "M_train,M_test,N_train,N_test=train_test_split(M,N,test_size=0.2)"
      ],
      "metadata": {
        "id": "LKfrwFw0_GuN"
      },
      "execution_count": 127,
      "outputs": []
    },
    {
      "cell_type": "code",
      "source": [
        "from sklearn.preprocessing import MinMaxScaler\n",
        "ms=MinMaxScaler()\n",
        "M_train_min=ms.fit_transform(M_train)\n",
        "M_test_min=ms.transform(M_test)"
      ],
      "metadata": {
        "id": "I5rRkwi1_szQ"
      },
      "execution_count": 128,
      "outputs": []
    },
    {
      "cell_type": "code",
      "source": [
        "from sklearn.preprocessing import StandardScaler\n",
        "ss=StandardScaler()\n",
        "M_train_norm=ss.fit_transform(M_train)\n",
        "M_test_norm=ss.transform(M_test)"
      ],
      "metadata": {
        "id": "cyF4a1Qy_9vK"
      },
      "execution_count": 129,
      "outputs": []
    },
    {
      "cell_type": "code",
      "source": [
        "from sklearn.decomposition import PCA\n",
        "pca=PCA(n_components=2)\n",
        "M_train_pca=pca.fit_transform(M_train)\n",
        "M_train_pca=pca.transform(M_train)\n",
        "M_test_pca=pca.fit_transform(M_test)\n",
        "M_test_pca=pca.transform(M_test)\n",
        "pca.explained_variance_ratio_"
      ],
      "metadata": {
        "colab": {
          "base_uri": "https://localhost:8080/"
        },
        "id": "9cTsl8aaAmRB",
        "outputId": "b51d005a-e85e-4f52-8822-715c1ac71275"
      },
      "execution_count": 130,
      "outputs": [
        {
          "output_type": "execute_result",
          "data": {
            "text/plain": [
              "array([0.57849147, 0.42144855])"
            ]
          },
          "metadata": {},
          "execution_count": 130
        }
      ]
    },
    {
      "cell_type": "markdown",
      "source": [
        "#K-Nearest Neighbor"
      ],
      "metadata": {
        "id": "bUrhLXnCBdjg"
      }
    },
    {
      "cell_type": "code",
      "source": [
        "from sklearn.neighbors import KNeighborsClassifier\n",
        "knn=KNeighborsClassifier(n_neighbors=5)\n",
        "knn.fit(M_train_min,N_train)\n",
        "prediction=knn.predict(M_test_min)\n",
        "\n",
        "from sklearn.metrics import accuracy_score\n",
        "accuracy=accuracy_score(N_test,prediction)\n",
        "print(\"Accuracy is\",accuracy*100,\"%\")\n",
        "\n",
        "target_names=['Private not-for-profit','Public']\n",
        "print(classification_report(N_test,prediction.reshape(-1,1),target_names=target_names))\n",
        "cm=confusion_matrix(N_test,prediction.reshape(-1,1),normalize='true')\n",
        "disp=ConfusionMatrixDisplay(confusion_matrix=cm,display_labels=target_names)\n",
        "fig,ax=plt.subplots(figsize=(8,6))\n",
        "disp.plot(ax=ax,cmap='Oranges')"
      ],
      "metadata": {
        "colab": {
          "base_uri": "https://localhost:8080/",
          "height": 579
        },
        "id": "SnuFAajYBc-6",
        "outputId": "ff9e9477-5923-44db-b7e1-26ab6cf7ea2b"
      },
      "execution_count": 131,
      "outputs": [
        {
          "output_type": "stream",
          "name": "stdout",
          "text": [
            "Accuracy is 72.0 %\n",
            "                        precision    recall  f1-score   support\n",
            "\n",
            "Private not-for-profit       0.71      0.79      0.75        53\n",
            "                Public       0.73      0.64      0.68        47\n",
            "\n",
            "              accuracy                           0.72       100\n",
            "             macro avg       0.72      0.72      0.72       100\n",
            "          weighted avg       0.72      0.72      0.72       100\n",
            "\n"
          ]
        },
        {
          "output_type": "execute_result",
          "data": {
            "text/plain": [
              "<sklearn.metrics._plot.confusion_matrix.ConfusionMatrixDisplay at 0x7f1f5c1029d0>"
            ]
          },
          "metadata": {},
          "execution_count": 131
        },
        {
          "output_type": "display_data",
          "data": {
            "text/plain": [
              "<Figure size 576x432 with 2 Axes>"
            ],
            "image/png": "[encoded data removed]"
          },
          "metadata": {
            "needs_background": "light"
          }
        }
      ]
    },
    {
      "cell_type": "code",
      "source": [
        "from sklearn.neighbors import KNeighborsClassifier\n",
        "knn=KNeighborsClassifier(n_neighbors=7)\n",
        "knn.fit(M_train_norm,N_train)\n",
        "prediction=knn.predict(M_test_min)\n",
        "\n",
        "from sklearn.metrics import accuracy_score\n",
        "accuracy=accuracy_score(N_test,prediction)\n",
        "print(\"Accuracy is\",accuracy*100,\"%\")\n",
        "\n",
        "target_names=['Private not-for-profit','Public']\n",
        "print(classification_report(N_test,prediction.reshape(-1,1),target_names=target_names))\n",
        "cm=confusion_matrix(N_test,prediction.reshape(-1,1),normalize='true')\n",
        "disp=ConfusionMatrixDisplay(confusion_matrix=cm,display_labels=target_names)\n",
        "fig,ax=plt.subplots(figsize=(8,6))\n",
        "disp.plot(ax=ax,cmap='Oranges')"
      ],
      "metadata": {
        "colab": {
          "base_uri": "https://localhost:8080/",
          "height": 583
        },
        "id": "erQzKUGHBFlF",
        "outputId": "daec1e7c-081c-401d-b8b8-e9c999065b92"
      },
      "execution_count": 142,
      "outputs": [
        {
          "output_type": "stream",
          "name": "stdout",
          "text": [
            "Accuracy is 57.99999999999999 %\n",
            "                        precision    recall  f1-score   support\n",
            "\n",
            "Private not-for-profit       0.56      1.00      0.72        53\n",
            "                Public       1.00      0.11      0.19        47\n",
            "\n",
            "              accuracy                           0.58       100\n",
            "             macro avg       0.78      0.55      0.45       100\n",
            "          weighted avg       0.77      0.58      0.47       100\n",
            "\n"
          ]
        },
        {
          "output_type": "execute_result",
          "data": {
            "text/plain": [
              "<sklearn.metrics._plot.confusion_matrix.ConfusionMatrixDisplay at 0x7f1f5bb518b0>"
            ]
          },
          "metadata": {},
          "execution_count": 142
        },
        {
          "output_type": "display_data",
          "data": {
            "text/plain": [
              "<Figure size 576x432 with 2 Axes>"
            ],
            "image/png": "[encoded data removed]"
          },
          "metadata": {
            "needs_background": "light"
          }
        }
      ]
    },
    {
      "cell_type": "markdown",
      "source": [
        "#Naive Bayes"
      ],
      "metadata": {
        "id": "FxoGM0M9J8nH"
      }
    },
    {
      "cell_type": "code",
      "source": [
        "from sklearn.naive_bayes import GaussianNB\n",
        "nb=GaussianNB()\n",
        "nb.fit(M_train_min,N_train)\n",
        "prediction=nb.predict(M_test_min)\n",
        "\n",
        "from sklearn.metrics import accuracy_score\n",
        "accuracy=accuracy_score(N_test,prediction)\n",
        "print(\"Accuracy is\",accuracy*100,\"%\")\n",
        "\n",
        "target_names=['Private not-for-profit','Public']\n",
        "print(classification_report(N_test,prediction.reshape(-1,1),target_names=target_names))\n",
        "cm=confusion_matrix(N_test,prediction.reshape(-1,1),normalize='true')\n",
        "disp=ConfusionMatrixDisplay(confusion_matrix=cm,display_labels=target_names)\n",
        "fig,ax=plt.subplots(figsize=(8,6))\n",
        "disp.plot(ax=ax,cmap='Oranges')"
      ],
      "metadata": {
        "colab": {
          "base_uri": "https://localhost:8080/",
          "height": 579
        },
        "id": "fZ16gQOXD-Oq",
        "outputId": "4f650303-f007-4a04-b3a6-bda45dcb3516"
      },
      "execution_count": 133,
      "outputs": [
        {
          "output_type": "stream",
          "name": "stdout",
          "text": [
            "Accuracy is 85.0 %\n",
            "                        precision    recall  f1-score   support\n",
            "\n",
            "Private not-for-profit       0.80      0.96      0.87        53\n",
            "                Public       0.94      0.72      0.82        47\n",
            "\n",
            "              accuracy                           0.85       100\n",
            "             macro avg       0.87      0.84      0.85       100\n",
            "          weighted avg       0.87      0.85      0.85       100\n",
            "\n"
          ]
        },
        {
          "output_type": "execute_result",
          "data": {
            "text/plain": [
              "<sklearn.metrics._plot.confusion_matrix.ConfusionMatrixDisplay at 0x7f1f5c0878e0>"
            ]
          },
          "metadata": {},
          "execution_count": 133
        },
        {
          "output_type": "display_data",
          "data": {
            "text/plain": [
              "<Figure size 576x432 with 2 Axes>"
            ],
            "image/png": "[encoded data removed]"
          },
          "metadata": {
            "needs_background": "light"
          }
        }
      ]
    },
    {
      "cell_type": "code",
      "source": [
        "from sklearn.naive_bayes import GaussianNB\n",
        "nb=GaussianNB()\n",
        "nb.fit(M_train_norm,N_train)\n",
        "prediction=nb.predict(M_test_norm)\n",
        "\n",
        "from sklearn.metrics import accuracy_score\n",
        "accuracy=accuracy_score(N_test,prediction)\n",
        "print(\"Accuracy is\",accuracy*100,\"%\")\n",
        "\n",
        "target_names=['Private not-for-profit','Public']\n",
        "print(classification_report(N_test,prediction.reshape(-1,1),target_names=target_names))\n",
        "cm=confusion_matrix(N_test,prediction.reshape(-1,1),normalize='true')\n",
        "disp=ConfusionMatrixDisplay(confusion_matrix=cm,display_labels=target_names)\n",
        "fig,ax=plt.subplots(figsize=(8,6))\n",
        "disp.plot(ax=ax,cmap='Oranges')"
      ],
      "metadata": {
        "colab": {
          "base_uri": "https://localhost:8080/",
          "height": 579
        },
        "id": "MSyCzegsHAmr",
        "outputId": "3f10b374-74f5-4743-9a85-f8224872e74d"
      },
      "execution_count": 134,
      "outputs": [
        {
          "output_type": "stream",
          "name": "stdout",
          "text": [
            "Accuracy is 85.0 %\n",
            "                        precision    recall  f1-score   support\n",
            "\n",
            "Private not-for-profit       0.80      0.96      0.87        53\n",
            "                Public       0.94      0.72      0.82        47\n",
            "\n",
            "              accuracy                           0.85       100\n",
            "             macro avg       0.87      0.84      0.85       100\n",
            "          weighted avg       0.87      0.85      0.85       100\n",
            "\n"
          ]
        },
        {
          "output_type": "execute_result",
          "data": {
            "text/plain": [
              "<sklearn.metrics._plot.confusion_matrix.ConfusionMatrixDisplay at 0x7f1f5bf8a130>"
            ]
          },
          "metadata": {},
          "execution_count": 134
        },
        {
          "output_type": "display_data",
          "data": {
            "text/plain": [
              "<Figure size 576x432 with 2 Axes>"
            ],
            "image/png": "[encoded data removed]"
          },
          "metadata": {
            "needs_background": "light"
          }
        }
      ]
    },
    {
      "cell_type": "markdown",
      "source": [
        "#Support Vector Machine"
      ],
      "metadata": {
        "id": "4_E9mYkGJ-_Y"
      }
    },
    {
      "cell_type": "code",
      "source": [
        "from sklearn.svm import SVC\n",
        "sv=SVC()\n",
        "sv.fit(M_train_min,N_train.values.ravel())\n",
        "prediction=sv.predict(M_test_min)\n",
        "\n",
        "from sklearn.metrics import accuracy_score\n",
        "accuracy=accuracy_score(N_test,prediction)\n",
        "print(\"Accuracy is\",accuracy*100,\"%\")\n",
        "\n",
        "target_names=['Private not-for-profit','Public']\n",
        "print(classification_report(N_test,prediction.reshape(-1,1),target_names=target_names))\n",
        "cm=confusion_matrix(N_test,prediction.reshape(-1,1),normalize='true')\n",
        "disp=ConfusionMatrixDisplay(confusion_matrix=cm,display_labels=target_names)\n",
        "fig,ax=plt.subplots(figsize=(8,6))\n",
        "disp.plot(ax=ax,cmap='Oranges')"
      ],
      "metadata": {
        "colab": {
          "base_uri": "https://localhost:8080/",
          "height": 579
        },
        "id": "4pbyTI6yILjE",
        "outputId": "3ee7d8c4-3597-4f0a-f568-c49dca69976d"
      },
      "execution_count": 135,
      "outputs": [
        {
          "output_type": "stream",
          "name": "stdout",
          "text": [
            "Accuracy is 84.0 %\n",
            "                        precision    recall  f1-score   support\n",
            "\n",
            "Private not-for-profit       0.79      0.94      0.86        53\n",
            "                Public       0.92      0.72      0.81        47\n",
            "\n",
            "              accuracy                           0.84       100\n",
            "             macro avg       0.86      0.83      0.84       100\n",
            "          weighted avg       0.85      0.84      0.84       100\n",
            "\n"
          ]
        },
        {
          "output_type": "execute_result",
          "data": {
            "text/plain": [
              "<sklearn.metrics._plot.confusion_matrix.ConfusionMatrixDisplay at 0x7f1f5bf12b80>"
            ]
          },
          "metadata": {},
          "execution_count": 135
        },
        {
          "output_type": "display_data",
          "data": {
            "text/plain": [
              "<Figure size 576x432 with 2 Axes>"
            ],
            "image/png": "[encoded data removed]"
          },
          "metadata": {
            "needs_background": "light"
          }
        }
      ]
    },
    {
      "cell_type": "code",
      "source": [
        "from sklearn.svm import SVC\n",
        "sv=SVC()\n",
        "sv.fit(M_train_norm,N_train.values.ravel())\n",
        "prediction=sv.predict(M_test_norm)\n",
        "\n",
        "from sklearn.metrics import accuracy_score\n",
        "accuracy=accuracy_score(N_test,prediction)\n",
        "print(\"Accuracy is\",accuracy*100,\"%\")\n",
        "\n",
        "target_names=['Private not-for-profit','Public']\n",
        "print(classification_report(N_test,prediction.reshape(-1,1),target_names=target_names))\n",
        "cm=confusion_matrix(N_test,prediction.reshape(-1,1),normalize='true')\n",
        "disp=ConfusionMatrixDisplay(confusion_matrix=cm,display_labels=target_names)\n",
        "fig,ax=plt.subplots(figsize=(8,6))\n",
        "disp.plot(ax=ax,cmap='Oranges')"
      ],
      "metadata": {
        "colab": {
          "base_uri": "https://localhost:8080/",
          "height": 579
        },
        "id": "OFQOdVluIuZZ",
        "outputId": "00db4d86-f43b-44b3-b25d-cebc53434aa0"
      },
      "execution_count": 136,
      "outputs": [
        {
          "output_type": "stream",
          "name": "stdout",
          "text": [
            "Accuracy is 83.0 %\n",
            "                        precision    recall  f1-score   support\n",
            "\n",
            "Private not-for-profit       0.79      0.92      0.85        53\n",
            "                Public       0.89      0.72      0.80        47\n",
            "\n",
            "              accuracy                           0.83       100\n",
            "             macro avg       0.84      0.82      0.83       100\n",
            "          weighted avg       0.84      0.83      0.83       100\n",
            "\n"
          ]
        },
        {
          "output_type": "execute_result",
          "data": {
            "text/plain": [
              "<sklearn.metrics._plot.confusion_matrix.ConfusionMatrixDisplay at 0x7f1f5bff8eb0>"
            ]
          },
          "metadata": {},
          "execution_count": 136
        },
        {
          "output_type": "display_data",
          "data": {
            "text/plain": [
              "<Figure size 576x432 with 2 Axes>"
            ],
            "image/png": "[encoded data removed]"
          },
          "metadata": {
            "needs_background": "light"
          }
        }
      ]
    },
    {
      "cell_type": "markdown",
      "source": [
        "#Decision Tree"
      ],
      "metadata": {
        "id": "gPlU8RVTKCjJ"
      }
    },
    {
      "cell_type": "code",
      "source": [
        "from sklearn.tree import DecisionTreeClassifier\n",
        "dt=DecisionTreeClassifier(criterion=\"gini\",max_depth=3,random_state=0)\n",
        "dt.fit(M_train_min,N_train.values.ravel())\n",
        "prediction=dt.predict(M_test_min)\n",
        "\n",
        "from sklearn.metrics import accuracy_score\n",
        "accuracy=accuracy_score(N_test,prediction)\n",
        "print(\"Accuracy is\",accuracy*100,\"%\")\n",
        "\n",
        "target_names=['Private not-for-profit','Public']\n",
        "print(classification_report(N_test,prediction.reshape(-1,1),target_names=target_names))\n",
        "cm=confusion_matrix(N_test,prediction.reshape(-1,1),normalize='true')\n",
        "disp=ConfusionMatrixDisplay(confusion_matrix=cm,display_labels=target_names)\n",
        "fig,ax=plt.subplots(figsize=(8,6))\n",
        "disp.plot(ax=ax,cmap='Oranges')"
      ],
      "metadata": {
        "colab": {
          "base_uri": "https://localhost:8080/",
          "height": 579
        },
        "id": "aN2EB93VJ0pw",
        "outputId": "39a13c90-766b-41f0-f952-4daae58e8d42"
      },
      "execution_count": 137,
      "outputs": [
        {
          "output_type": "stream",
          "name": "stdout",
          "text": [
            "Accuracy is 83.0 %\n",
            "                        precision    recall  f1-score   support\n",
            "\n",
            "Private not-for-profit       0.82      0.87      0.84        53\n",
            "                Public       0.84      0.79      0.81        47\n",
            "\n",
            "              accuracy                           0.83       100\n",
            "             macro avg       0.83      0.83      0.83       100\n",
            "          weighted avg       0.83      0.83      0.83       100\n",
            "\n"
          ]
        },
        {
          "output_type": "execute_result",
          "data": {
            "text/plain": [
              "<sklearn.metrics._plot.confusion_matrix.ConfusionMatrixDisplay at 0x7f1f5bdf1160>"
            ]
          },
          "metadata": {},
          "execution_count": 137
        },
        {
          "output_type": "display_data",
          "data": {
            "text/plain": [
              "<Figure size 576x432 with 2 Axes>"
            ],
            "image/png": "[encoded data removed]"
          },
          "metadata": {
            "needs_background": "light"
          }
        }
      ]
    },
    {
      "cell_type": "code",
      "source": [
        "from sklearn.tree import DecisionTreeClassifier\n",
        "dt=DecisionTreeClassifier(criterion=\"gini\",max_depth=5,random_state=0)\n",
        "dt.fit(M_train_norm,N_train.values.ravel())\n",
        "prediction=dt.predict(M_test_norm)\n",
        "\n",
        "from sklearn.metrics import accuracy_score\n",
        "accuracy=accuracy_score(N_test,prediction)\n",
        "print(\"Accuracy is\",accuracy*100,\"%\")\n",
        "\n",
        "target_names=['Private not-for-profit','Public']\n",
        "print(classification_report(N_test,prediction.reshape(-1,1),target_names=target_names))\n",
        "cm=confusion_matrix(N_test,prediction.reshape(-1,1),normalize='true')\n",
        "disp=ConfusionMatrixDisplay(confusion_matrix=cm,display_labels=target_names)\n",
        "fig,ax=plt.subplots(figsize=(8,6))\n",
        "disp.plot(ax=ax,cmap='Oranges')"
      ],
      "metadata": {
        "colab": {
          "base_uri": "https://localhost:8080/",
          "height": 579
        },
        "id": "YsmQtzeTKUBx",
        "outputId": "94d2f9f2-24da-4708-d8d0-a72d70220c4b"
      },
      "execution_count": 138,
      "outputs": [
        {
          "output_type": "stream",
          "name": "stdout",
          "text": [
            "Accuracy is 79.0 %\n",
            "                        precision    recall  f1-score   support\n",
            "\n",
            "Private not-for-profit       0.77      0.87      0.81        53\n",
            "                Public       0.82      0.70      0.76        47\n",
            "\n",
            "              accuracy                           0.79       100\n",
            "             macro avg       0.80      0.79      0.79       100\n",
            "          weighted avg       0.79      0.79      0.79       100\n",
            "\n"
          ]
        },
        {
          "output_type": "execute_result",
          "data": {
            "text/plain": [
              "<sklearn.metrics._plot.confusion_matrix.ConfusionMatrixDisplay at 0x7f1f5bdb0400>"
            ]
          },
          "metadata": {},
          "execution_count": 138
        },
        {
          "output_type": "display_data",
          "data": {
            "text/plain": [
              "<Figure size 576x432 with 2 Axes>"
            ],
            "image/png": "[encoded data removed]"
          },
          "metadata": {
            "needs_background": "light"
          }
        }
      ]
    },
    {
      "cell_type": "markdown",
      "source": [
        "#Random Forest"
      ],
      "metadata": {
        "id": "odbKHUBDK0K-"
      }
    },
    {
      "cell_type": "code",
      "source": [
        "from sklearn.ensemble import RandomForestClassifier\n",
        "dt=RandomForestClassifier(n_estimators=150)\n",
        "dt.fit(M_train_min,N_train.values.ravel())\n",
        "prediction=dt.predict(M_test_min)\n",
        "\n",
        "from sklearn.metrics import accuracy_score\n",
        "accuracy=accuracy_score(N_test,prediction)\n",
        "print(\"Accuracy is\",accuracy*100,\"%\")\n",
        "\n",
        "target_names=['Private not-for-profit','Public']\n",
        "print(classification_report(N_test,prediction.reshape(-1,1),target_names=target_names))\n",
        "cm=confusion_matrix(N_test,prediction.reshape(-1,1),normalize='true')\n",
        "disp=ConfusionMatrixDisplay(confusion_matrix=cm,display_labels=target_names)\n",
        "fig,ax=plt.subplots(figsize=(8,6))\n",
        "disp.plot(ax=ax,cmap='Oranges')"
      ],
      "metadata": {
        "colab": {
          "base_uri": "https://localhost:8080/",
          "height": 579
        },
        "id": "BEN8JhwAKkK_",
        "outputId": "22df6b28-fa67-42b3-f9b1-f6b366ddeee2"
      },
      "execution_count": 139,
      "outputs": [
        {
          "output_type": "stream",
          "name": "stdout",
          "text": [
            "Accuracy is 87.0 %\n",
            "                        precision    recall  f1-score   support\n",
            "\n",
            "Private not-for-profit       0.82      0.96      0.89        53\n",
            "                Public       0.95      0.77      0.85        47\n",
            "\n",
            "              accuracy                           0.87       100\n",
            "             macro avg       0.88      0.86      0.87       100\n",
            "          weighted avg       0.88      0.87      0.87       100\n",
            "\n"
          ]
        },
        {
          "output_type": "execute_result",
          "data": {
            "text/plain": [
              "<sklearn.metrics._plot.confusion_matrix.ConfusionMatrixDisplay at 0x7f1f5bcb53d0>"
            ]
          },
          "metadata": {},
          "execution_count": 139
        },
        {
          "output_type": "display_data",
          "data": {
            "text/plain": [
              "<Figure size 576x432 with 2 Axes>"
            ],
            "image/png": "[encoded data removed]"
          },
          "metadata": {
            "needs_background": "light"
          }
        }
      ]
    },
    {
      "cell_type": "code",
      "source": [
        "from sklearn.ensemble import RandomForestClassifier\n",
        "dt=RandomForestClassifier(n_estimators=150)\n",
        "dt.fit(M_train_norm,N_train.values.ravel())\n",
        "prediction=dt.predict(M_test_norm)\n",
        "\n",
        "from sklearn.metrics import accuracy_score\n",
        "accuracy=accuracy_score(N_test,prediction)\n",
        "print(\"Accuracy is\",accuracy*100,\"%\")\n",
        "\n",
        "target_names=['Private not-for-profit','Public']\n",
        "print(classification_report(N_test,prediction.reshape(-1,1),target_names=target_names))\n",
        "cm=confusion_matrix(N_test,prediction.reshape(-1,1),normalize='true')\n",
        "disp=ConfusionMatrixDisplay(confusion_matrix=cm,display_labels=target_names)\n",
        "fig,ax=plt.subplots(figsize=(8,6))\n",
        "disp.plot(ax=ax,cmap='Oranges')"
      ],
      "metadata": {
        "colab": {
          "base_uri": "https://localhost:8080/",
          "height": 579
        },
        "id": "PSe7a44wLEgT",
        "outputId": "ad9cb7e6-219c-440b-e08a-499e3516c73a"
      },
      "execution_count": 140,
      "outputs": [
        {
          "output_type": "stream",
          "name": "stdout",
          "text": [
            "Accuracy is 84.0 %\n",
            "                        precision    recall  f1-score   support\n",
            "\n",
            "Private not-for-profit       0.80      0.92      0.86        53\n",
            "                Public       0.90      0.74      0.81        47\n",
            "\n",
            "              accuracy                           0.84       100\n",
            "             macro avg       0.85      0.83      0.84       100\n",
            "          weighted avg       0.85      0.84      0.84       100\n",
            "\n"
          ]
        },
        {
          "output_type": "execute_result",
          "data": {
            "text/plain": [
              "<sklearn.metrics._plot.confusion_matrix.ConfusionMatrixDisplay at 0x7f1f5c08d820>"
            ]
          },
          "metadata": {},
          "execution_count": 140
        },
        {
          "output_type": "display_data",
          "data": {
            "text/plain": [
              "<Figure size 576x432 with 2 Axes>"
            ],
            "image/png": "[encoded data removed]"
          },
          "metadata": {
            "needs_background": "light"
          }
        }
      ]
    },
    {
      "cell_type": "code",
      "source": [],
      "metadata": {
        "id": "6xFZjbLZLRqt"
      },
      "execution_count": 140,
      "outputs": []
    }
  ]
}